{
 "cells": [
  {
   "cell_type": "markdown",
   "metadata": {
    "id": "NPSDs3f_ZQdu"
   },
   "source": [
    "# **Assignment 2: Predicting Fake Job Postings**"
   ]
  },
  {
   "cell_type": "code",
   "execution_count": 1,
   "metadata": {
    "id": "UkAnVqFnYICZ"
   },
   "outputs": [],
   "source": [
    "import re\n",
    "import os\n",
    "import sys\n",
    "import nltk\n",
    "import numpy as np\n",
    "import pandas as pd\n",
    "import seaborn as sns\n",
    "import matplotlib.pyplot as plt"
   ]
  },
  {
   "cell_type": "code",
   "execution_count": 2,
   "metadata": {
    "id": "vpA3Xd0PYdc3"
   },
   "outputs": [],
   "source": [
    "from nltk.corpus import stopwords\n",
    "from nltk.stem import PorterStemmer, SnowballStemmer, WordNetLemmatizer\n",
    "\n",
    "from sklearn.ensemble import AdaBoostClassifier, BaggingClassifier\n",
    "from sklearn.feature_extraction.text import CountVectorizer, TfidfVectorizer, ENGLISH_STOP_WORDS\n",
    "from sklearn.impute import SimpleImputer\n",
    "from sklearn.linear_model import SGDClassifier, Perceptron\n",
    "from sklearn.metrics import classification_report\n",
    "from sklearn.model_selection import train_test_split\n",
    "from sklearn.naive_bayes import GaussianNB\n",
    "from sklearn.neighbors import NearestCentroid\n",
    "from sklearn.pipeline import FeatureUnion, Pipeline\n",
    "from sklearn.preprocessing import FunctionTransformer, LabelEncoder\n",
    "from sklearn.tree import DecisionTreeClassifier\n",
    "\n"
   ]
  },
  {
   "cell_type": "code",
   "execution_count": 3,
   "metadata": {
    "id": "eg6gQ8t5YXst"
   },
   "outputs": [],
   "source": [
    "import tensorflow as tf\n",
    "\n",
    "from tensorflow.keras.activations import relu, softmax\n",
    "from tensorflow.keras.callbacks import EarlyStopping\n",
    "from tensorflow.keras.layers import Dense, Dropout, Input\n",
    "from tensorflow.keras.metrics import RootMeanSquaredError\n",
    "from tensorflow.keras.models import Sequential\n",
    "from tensorflow.keras.optimizers import SGD\n",
    "from tensorflow.keras.utils import to_categorical\n",
    "\n",
    "from wordcloud import WordCloud, STOPWORDS, ImageColorGenerator\n",
    "\n",
    "%matplotlib inline"
   ]
  },
  {
   "cell_type": "markdown",
   "metadata": {
    "id": "ca6ImxjSZD2A"
   },
   "source": [
    "## **Data Exploration**"
   ]
  },
  {
   "cell_type": "code",
   "execution_count": 4,
   "metadata": {
    "id": "oy8kk4hIZcEb"
   },
   "outputs": [],
   "source": [
    "dataset_path = './fake_job_postings.csv'\n",
    "\n",
    "df = pd.read_csv(dataset_path, encoding='utf-8')\n",
    "df = df.replace([pd.NA, 'NaN', 'nan', 'NULL', 'Null', 'null', '', r'\\s+\\s*'], np.nan)\n"
   ]
  },
  {
   "cell_type": "code",
   "execution_count": 5,
   "metadata": {
    "colab": {
     "base_uri": "https://localhost:8080/",
     "height": 600
    },
    "id": "UnJjAtmUoF12",
    "outputId": "0f9b6533-d84f-4417-9eb0-912537958500"
   },
   "outputs": [
    {
     "data": {
      "text/html": [
       "\n",
       "  <div id=\"df-4464bab1-35fe-4cb8-ba61-61bf68b56daa\">\n",
       "    <div class=\"colab-df-container\">\n",
       "      <div>\n",
       "<style scoped>\n",
       "    .dataframe tbody tr th:only-of-type {\n",
       "        vertical-align: middle;\n",
       "    }\n",
       "\n",
       "    .dataframe tbody tr th {\n",
       "        vertical-align: top;\n",
       "    }\n",
       "\n",
       "    .dataframe thead th {\n",
       "        text-align: right;\n",
       "    }\n",
       "</style>\n",
       "<table border=\"1\" class=\"dataframe\">\n",
       "  <thead>\n",
       "    <tr style=\"text-align: right;\">\n",
       "      <th></th>\n",
       "      <th>job_id</th>\n",
       "      <th>title</th>\n",
       "      <th>location</th>\n",
       "      <th>department</th>\n",
       "      <th>salary_range</th>\n",
       "      <th>company_profile</th>\n",
       "      <th>description</th>\n",
       "      <th>requirements</th>\n",
       "      <th>benefits</th>\n",
       "      <th>telecommuting</th>\n",
       "      <th>has_company_logo</th>\n",
       "      <th>has_questions</th>\n",
       "      <th>employment_type</th>\n",
       "      <th>required_experience</th>\n",
       "      <th>required_education</th>\n",
       "      <th>industry</th>\n",
       "      <th>function</th>\n",
       "      <th>fraudulent</th>\n",
       "    </tr>\n",
       "  </thead>\n",
       "  <tbody>\n",
       "    <tr>\n",
       "      <th>0</th>\n",
       "      <td>1</td>\n",
       "      <td>Marketing Intern</td>\n",
       "      <td>US, NY, New York</td>\n",
       "      <td>Marketing</td>\n",
       "      <td>NaN</td>\n",
       "      <td>We're Food52, and we've created a groundbreaki...</td>\n",
       "      <td>Food52, a fast-growing, James Beard Award-winn...</td>\n",
       "      <td>Experience with content management systems a m...</td>\n",
       "      <td>NaN</td>\n",
       "      <td>0</td>\n",
       "      <td>1</td>\n",
       "      <td>0</td>\n",
       "      <td>Other</td>\n",
       "      <td>Internship</td>\n",
       "      <td>NaN</td>\n",
       "      <td>NaN</td>\n",
       "      <td>Marketing</td>\n",
       "      <td>0</td>\n",
       "    </tr>\n",
       "    <tr>\n",
       "      <th>1</th>\n",
       "      <td>2</td>\n",
       "      <td>Customer Service - Cloud Video Production</td>\n",
       "      <td>NZ, , Auckland</td>\n",
       "      <td>Success</td>\n",
       "      <td>NaN</td>\n",
       "      <td>90 Seconds, the worlds Cloud Video Production ...</td>\n",
       "      <td>Organised - Focused - Vibrant - Awesome!Do you...</td>\n",
       "      <td>What we expect from you:Your key responsibilit...</td>\n",
       "      <td>What you will get from usThrough being part of...</td>\n",
       "      <td>0</td>\n",
       "      <td>1</td>\n",
       "      <td>0</td>\n",
       "      <td>Full-time</td>\n",
       "      <td>Not Applicable</td>\n",
       "      <td>NaN</td>\n",
       "      <td>Marketing and Advertising</td>\n",
       "      <td>Customer Service</td>\n",
       "      <td>0</td>\n",
       "    </tr>\n",
       "    <tr>\n",
       "      <th>2</th>\n",
       "      <td>3</td>\n",
       "      <td>Commissioning Machinery Assistant (CMA)</td>\n",
       "      <td>US, IA, Wever</td>\n",
       "      <td>NaN</td>\n",
       "      <td>NaN</td>\n",
       "      <td>Valor Services provides Workforce Solutions th...</td>\n",
       "      <td>Our client, located in Houston, is actively se...</td>\n",
       "      <td>Implement pre-commissioning and commissioning ...</td>\n",
       "      <td>NaN</td>\n",
       "      <td>0</td>\n",
       "      <td>1</td>\n",
       "      <td>0</td>\n",
       "      <td>NaN</td>\n",
       "      <td>NaN</td>\n",
       "      <td>NaN</td>\n",
       "      <td>NaN</td>\n",
       "      <td>NaN</td>\n",
       "      <td>0</td>\n",
       "    </tr>\n",
       "    <tr>\n",
       "      <th>3</th>\n",
       "      <td>4</td>\n",
       "      <td>Account Executive - Washington DC</td>\n",
       "      <td>US, DC, Washington</td>\n",
       "      <td>Sales</td>\n",
       "      <td>NaN</td>\n",
       "      <td>Our passion for improving quality of life thro...</td>\n",
       "      <td>THE COMPANY: ESRI – Environmental Systems Rese...</td>\n",
       "      <td>EDUCATION: Bachelor’s or Master’s in GIS, busi...</td>\n",
       "      <td>Our culture is anything but corporate—we have ...</td>\n",
       "      <td>0</td>\n",
       "      <td>1</td>\n",
       "      <td>0</td>\n",
       "      <td>Full-time</td>\n",
       "      <td>Mid-Senior level</td>\n",
       "      <td>Bachelor's Degree</td>\n",
       "      <td>Computer Software</td>\n",
       "      <td>Sales</td>\n",
       "      <td>0</td>\n",
       "    </tr>\n",
       "    <tr>\n",
       "      <th>4</th>\n",
       "      <td>5</td>\n",
       "      <td>Bill Review Manager</td>\n",
       "      <td>US, FL, Fort Worth</td>\n",
       "      <td>NaN</td>\n",
       "      <td>NaN</td>\n",
       "      <td>SpotSource Solutions LLC is a Global Human Cap...</td>\n",
       "      <td>JOB TITLE: Itemization Review ManagerLOCATION:...</td>\n",
       "      <td>QUALIFICATIONS:RN license in the State of Texa...</td>\n",
       "      <td>Full Benefits Offered</td>\n",
       "      <td>0</td>\n",
       "      <td>1</td>\n",
       "      <td>1</td>\n",
       "      <td>Full-time</td>\n",
       "      <td>Mid-Senior level</td>\n",
       "      <td>Bachelor's Degree</td>\n",
       "      <td>Hospital &amp; Health Care</td>\n",
       "      <td>Health Care Provider</td>\n",
       "      <td>0</td>\n",
       "    </tr>\n",
       "  </tbody>\n",
       "</table>\n",
       "</div>\n",
       "      <button class=\"colab-df-convert\" onclick=\"convertToInteractive('df-4464bab1-35fe-4cb8-ba61-61bf68b56daa')\"\n",
       "              title=\"Convert this dataframe to an interactive table.\"\n",
       "              style=\"display:none;\">\n",
       "        \n",
       "  <svg xmlns=\"http://www.w3.org/2000/svg\" height=\"24px\"viewBox=\"0 0 24 24\"\n",
       "       width=\"24px\">\n",
       "    <path d=\"M0 0h24v24H0V0z\" fill=\"none\"/>\n",
       "    <path d=\"M18.56 5.44l.94 2.06.94-2.06 2.06-.94-2.06-.94-.94-2.06-.94 2.06-2.06.94zm-11 1L8.5 8.5l.94-2.06 2.06-.94-2.06-.94L8.5 2.5l-.94 2.06-2.06.94zm10 10l.94 2.06.94-2.06 2.06-.94-2.06-.94-.94-2.06-.94 2.06-2.06.94z\"/><path d=\"M17.41 7.96l-1.37-1.37c-.4-.4-.92-.59-1.43-.59-.52 0-1.04.2-1.43.59L10.3 9.45l-7.72 7.72c-.78.78-.78 2.05 0 2.83L4 21.41c.39.39.9.59 1.41.59.51 0 1.02-.2 1.41-.59l7.78-7.78 2.81-2.81c.8-.78.8-2.07 0-2.86zM5.41 20L4 18.59l7.72-7.72 1.47 1.35L5.41 20z\"/>\n",
       "  </svg>\n",
       "      </button>\n",
       "      \n",
       "  <style>\n",
       "    .colab-df-container {\n",
       "      display:flex;\n",
       "      flex-wrap:wrap;\n",
       "      gap: 12px;\n",
       "    }\n",
       "\n",
       "    .colab-df-convert {\n",
       "      background-color: #E8F0FE;\n",
       "      border: none;\n",
       "      border-radius: 50%;\n",
       "      cursor: pointer;\n",
       "      display: none;\n",
       "      fill: #1967D2;\n",
       "      height: 32px;\n",
       "      padding: 0 0 0 0;\n",
       "      width: 32px;\n",
       "    }\n",
       "\n",
       "    .colab-df-convert:hover {\n",
       "      background-color: #E2EBFA;\n",
       "      box-shadow: 0px 1px 2px rgba(60, 64, 67, 0.3), 0px 1px 3px 1px rgba(60, 64, 67, 0.15);\n",
       "      fill: #174EA6;\n",
       "    }\n",
       "\n",
       "    [theme=dark] .colab-df-convert {\n",
       "      background-color: #3B4455;\n",
       "      fill: #D2E3FC;\n",
       "    }\n",
       "\n",
       "    [theme=dark] .colab-df-convert:hover {\n",
       "      background-color: #434B5C;\n",
       "      box-shadow: 0px 1px 3px 1px rgba(0, 0, 0, 0.15);\n",
       "      filter: drop-shadow(0px 1px 2px rgba(0, 0, 0, 0.3));\n",
       "      fill: #FFFFFF;\n",
       "    }\n",
       "  </style>\n",
       "\n",
       "      <script>\n",
       "        const buttonEl =\n",
       "          document.querySelector('#df-4464bab1-35fe-4cb8-ba61-61bf68b56daa button.colab-df-convert');\n",
       "        buttonEl.style.display =\n",
       "          google.colab.kernel.accessAllowed ? 'block' : 'none';\n",
       "\n",
       "        async function convertToInteractive(key) {\n",
       "          const element = document.querySelector('#df-4464bab1-35fe-4cb8-ba61-61bf68b56daa');\n",
       "          const dataTable =\n",
       "            await google.colab.kernel.invokeFunction('convertToInteractive',\n",
       "                                                     [key], {});\n",
       "          if (!dataTable) return;\n",
       "\n",
       "          const docLinkHtml = 'Like what you see? Visit the ' +\n",
       "            '<a target=\"_blank\" href=https://colab.research.google.com/notebooks/data_table.ipynb>data table notebook</a>'\n",
       "            + ' to learn more about interactive tables.';\n",
       "          element.innerHTML = '';\n",
       "          dataTable['output_type'] = 'display_data';\n",
       "          await google.colab.output.renderOutput(dataTable, element);\n",
       "          const docLink = document.createElement('div');\n",
       "          docLink.innerHTML = docLinkHtml;\n",
       "          element.appendChild(docLink);\n",
       "        }\n",
       "      </script>\n",
       "    </div>\n",
       "  </div>\n",
       "  "
      ],
      "text/plain": [
       "   job_id                                      title            location  \\\n",
       "0       1                           Marketing Intern    US, NY, New York   \n",
       "1       2  Customer Service - Cloud Video Production      NZ, , Auckland   \n",
       "2       3    Commissioning Machinery Assistant (CMA)       US, IA, Wever   \n",
       "3       4          Account Executive - Washington DC  US, DC, Washington   \n",
       "4       5                        Bill Review Manager  US, FL, Fort Worth   \n",
       "\n",
       "  department salary_range                                    company_profile  \\\n",
       "0  Marketing          NaN  We're Food52, and we've created a groundbreaki...   \n",
       "1    Success          NaN  90 Seconds, the worlds Cloud Video Production ...   \n",
       "2        NaN          NaN  Valor Services provides Workforce Solutions th...   \n",
       "3      Sales          NaN  Our passion for improving quality of life thro...   \n",
       "4        NaN          NaN  SpotSource Solutions LLC is a Global Human Cap...   \n",
       "\n",
       "                                         description  \\\n",
       "0  Food52, a fast-growing, James Beard Award-winn...   \n",
       "1  Organised - Focused - Vibrant - Awesome!Do you...   \n",
       "2  Our client, located in Houston, is actively se...   \n",
       "3  THE COMPANY: ESRI – Environmental Systems Rese...   \n",
       "4  JOB TITLE: Itemization Review ManagerLOCATION:...   \n",
       "\n",
       "                                        requirements  \\\n",
       "0  Experience with content management systems a m...   \n",
       "1  What we expect from you:Your key responsibilit...   \n",
       "2  Implement pre-commissioning and commissioning ...   \n",
       "3  EDUCATION: Bachelor’s or Master’s in GIS, busi...   \n",
       "4  QUALIFICATIONS:RN license in the State of Texa...   \n",
       "\n",
       "                                            benefits  telecommuting  \\\n",
       "0                                                NaN              0   \n",
       "1  What you will get from usThrough being part of...              0   \n",
       "2                                                NaN              0   \n",
       "3  Our culture is anything but corporate—we have ...              0   \n",
       "4                              Full Benefits Offered              0   \n",
       "\n",
       "   has_company_logo  has_questions employment_type required_experience  \\\n",
       "0                 1              0           Other          Internship   \n",
       "1                 1              0       Full-time      Not Applicable   \n",
       "2                 1              0             NaN                 NaN   \n",
       "3                 1              0       Full-time    Mid-Senior level   \n",
       "4                 1              1       Full-time    Mid-Senior level   \n",
       "\n",
       "  required_education                   industry              function  \\\n",
       "0                NaN                        NaN             Marketing   \n",
       "1                NaN  Marketing and Advertising      Customer Service   \n",
       "2                NaN                        NaN                   NaN   \n",
       "3  Bachelor's Degree          Computer Software                 Sales   \n",
       "4  Bachelor's Degree     Hospital & Health Care  Health Care Provider   \n",
       "\n",
       "   fraudulent  \n",
       "0           0  \n",
       "1           0  \n",
       "2           0  \n",
       "3           0  \n",
       "4           0  "
      ]
     },
     "execution_count": 5,
     "metadata": {},
     "output_type": "execute_result"
    }
   ],
   "source": [
    "df.head()"
   ]
  },
  {
   "cell_type": "code",
   "execution_count": 6,
   "metadata": {
    "colab": {
     "base_uri": "https://localhost:8080/",
     "height": 0
    },
    "id": "rfyGdkIJoH1-",
    "outputId": "aad31f30-903b-49b3-d9e9-b01ff15a2ac2"
   },
   "outputs": [
    {
     "name": "stdout",
     "output_type": "stream",
     "text": [
      "<class 'pandas.core.frame.DataFrame'>\n",
      "RangeIndex: 17880 entries, 0 to 17879\n",
      "Data columns (total 18 columns):\n",
      " #   Column               Non-Null Count  Dtype \n",
      "---  ------               --------------  ----- \n",
      " 0   job_id               17880 non-null  int64 \n",
      " 1   title                17880 non-null  object\n",
      " 2   location             17534 non-null  object\n",
      " 3   department           6333 non-null   object\n",
      " 4   salary_range         2868 non-null   object\n",
      " 5   company_profile      14572 non-null  object\n",
      " 6   description          17879 non-null  object\n",
      " 7   requirements         15185 non-null  object\n",
      " 8   benefits             10670 non-null  object\n",
      " 9   telecommuting        17880 non-null  int64 \n",
      " 10  has_company_logo     17880 non-null  int64 \n",
      " 11  has_questions        17880 non-null  int64 \n",
      " 12  employment_type      14409 non-null  object\n",
      " 13  required_experience  10830 non-null  object\n",
      " 14  required_education   9775 non-null   object\n",
      " 15  industry             12977 non-null  object\n",
      " 16  function             11425 non-null  object\n",
      " 17  fraudulent           17880 non-null  int64 \n",
      "dtypes: int64(5), object(13)\n",
      "memory usage: 2.5+ MB\n"
     ]
    }
   ],
   "source": [
    "# Check the column types, to make sure the dataset was properly loaded\n",
    "\n",
    "df.info()"
   ]
  },
  {
   "cell_type": "code",
   "execution_count": 7,
   "metadata": {
    "colab": {
     "base_uri": "https://localhost:8080/",
     "height": 0
    },
    "id": "is2n1kQ3oPTF",
    "outputId": "341e4a0a-95bc-4c30-d831-85d89e664352"
   },
   "outputs": [
    {
     "name": "stdout",
     "output_type": "stream",
     "text": [
      "2 classes:\n",
      "0 (real)\n",
      "1 (fake)\n",
      "\n",
      "Class rate:\n",
      "0: 95%\n",
      "1: 5%\n",
      "\n",
      "Categorical features:\n",
      "department, telecommuting, has_company_logo, has_questions, employment_type, required_experience, required_education, industry, function\n",
      "\n",
      "String features:\n",
      "company_profile, description, requirements, benefits\n",
      "\n"
     ]
    }
   ],
   "source": [
    "# Class Distribution\n",
    "\n",
    "classes = df['fraudulent'].value_counts().keys().to_list()\n",
    "print(f'{len(classes)} classes:\\n{classes[0]} (real)\\n{classes[1]} (fake)\\n')\n",
    "\n",
    "total_records = df.shape[0]\n",
    "real = df.loc[df['fraudulent'] == 0].count()[0]\n",
    "print(f'Class rate:\\n{classes[0]}: {round(real/total_records*100)}%\\n{classes[1]}: {round((1-real/total_records)*100)}%\\n')\n",
    "\n",
    "categorical_features = ['department', 'telecommuting', 'has_company_logo', 'has_questions', 'employment_type',\n",
    "                        'required_experience', 'required_education', 'industry', 'function']\n",
    "print(f'Categorical features:\\n{\", \".join(categorical_features)}\\n')\n",
    "\n",
    "# string_features = ['title', 'location', 'department', 'company_profile', 'description', 'requirements', 'benefits']\n",
    "string_features = ['company_profile', 'description', 'requirements', 'benefits']\n",
    "print(f'String features:\\n{\", \".join(string_features)}\\n')"
   ]
  },
  {
   "cell_type": "markdown",
   "metadata": {
    "id": "Efl8NxDpqPbo"
   },
   "source": [
    "We observe that there is a huge imbalance between the number of records which correspond to each class that can lead to a huge bias in favour of the real job postings since they comprise 95% of our dataset."
   ]
  },
  {
   "cell_type": "markdown",
   "metadata": {
    "id": "gyUdyRG4ozdI"
   },
   "source": [
    "## **Prepare the Data**"
   ]
  },
  {
   "cell_type": "code",
   "execution_count": 8,
   "metadata": {
    "colab": {
     "base_uri": "https://localhost:8080/",
     "height": 614
    },
    "id": "tTiVQlDxoS1Y",
    "outputId": "24a38781-bd5c-41d4-9bab-994c1c66deb5"
   },
   "outputs": [
    {
     "data": {
      "text/html": [
       "\n",
       "  <div id=\"df-6bbd1634-5a3b-4922-bebf-d3ef0c322b4b\">\n",
       "    <div class=\"colab-df-container\">\n",
       "      <div>\n",
       "<style scoped>\n",
       "    .dataframe tbody tr th:only-of-type {\n",
       "        vertical-align: middle;\n",
       "    }\n",
       "\n",
       "    .dataframe tbody tr th {\n",
       "        vertical-align: top;\n",
       "    }\n",
       "\n",
       "    .dataframe thead th {\n",
       "        text-align: right;\n",
       "    }\n",
       "</style>\n",
       "<table border=\"1\" class=\"dataframe\">\n",
       "  <thead>\n",
       "    <tr style=\"text-align: right;\">\n",
       "      <th></th>\n",
       "      <th>null_count</th>\n",
       "      <th>null_percentage</th>\n",
       "    </tr>\n",
       "  </thead>\n",
       "  <tbody>\n",
       "    <tr>\n",
       "      <th>job_id</th>\n",
       "      <td>0</td>\n",
       "      <td>0.00</td>\n",
       "    </tr>\n",
       "    <tr>\n",
       "      <th>title</th>\n",
       "      <td>0</td>\n",
       "      <td>0.00</td>\n",
       "    </tr>\n",
       "    <tr>\n",
       "      <th>location</th>\n",
       "      <td>346</td>\n",
       "      <td>1.94</td>\n",
       "    </tr>\n",
       "    <tr>\n",
       "      <th>department</th>\n",
       "      <td>11547</td>\n",
       "      <td>64.58</td>\n",
       "    </tr>\n",
       "    <tr>\n",
       "      <th>salary_range</th>\n",
       "      <td>15012</td>\n",
       "      <td>83.96</td>\n",
       "    </tr>\n",
       "    <tr>\n",
       "      <th>company_profile</th>\n",
       "      <td>3308</td>\n",
       "      <td>18.50</td>\n",
       "    </tr>\n",
       "    <tr>\n",
       "      <th>description</th>\n",
       "      <td>1</td>\n",
       "      <td>0.01</td>\n",
       "    </tr>\n",
       "    <tr>\n",
       "      <th>requirements</th>\n",
       "      <td>2695</td>\n",
       "      <td>15.07</td>\n",
       "    </tr>\n",
       "    <tr>\n",
       "      <th>benefits</th>\n",
       "      <td>7210</td>\n",
       "      <td>40.32</td>\n",
       "    </tr>\n",
       "    <tr>\n",
       "      <th>telecommuting</th>\n",
       "      <td>0</td>\n",
       "      <td>0.00</td>\n",
       "    </tr>\n",
       "    <tr>\n",
       "      <th>has_company_logo</th>\n",
       "      <td>0</td>\n",
       "      <td>0.00</td>\n",
       "    </tr>\n",
       "    <tr>\n",
       "      <th>has_questions</th>\n",
       "      <td>0</td>\n",
       "      <td>0.00</td>\n",
       "    </tr>\n",
       "    <tr>\n",
       "      <th>employment_type</th>\n",
       "      <td>3471</td>\n",
       "      <td>19.41</td>\n",
       "    </tr>\n",
       "    <tr>\n",
       "      <th>required_experience</th>\n",
       "      <td>7050</td>\n",
       "      <td>39.43</td>\n",
       "    </tr>\n",
       "    <tr>\n",
       "      <th>required_education</th>\n",
       "      <td>8105</td>\n",
       "      <td>45.33</td>\n",
       "    </tr>\n",
       "    <tr>\n",
       "      <th>industry</th>\n",
       "      <td>4903</td>\n",
       "      <td>27.42</td>\n",
       "    </tr>\n",
       "    <tr>\n",
       "      <th>function</th>\n",
       "      <td>6455</td>\n",
       "      <td>36.10</td>\n",
       "    </tr>\n",
       "    <tr>\n",
       "      <th>fraudulent</th>\n",
       "      <td>0</td>\n",
       "      <td>0.00</td>\n",
       "    </tr>\n",
       "  </tbody>\n",
       "</table>\n",
       "</div>\n",
       "      <button class=\"colab-df-convert\" onclick=\"convertToInteractive('df-6bbd1634-5a3b-4922-bebf-d3ef0c322b4b')\"\n",
       "              title=\"Convert this dataframe to an interactive table.\"\n",
       "              style=\"display:none;\">\n",
       "        \n",
       "  <svg xmlns=\"http://www.w3.org/2000/svg\" height=\"24px\"viewBox=\"0 0 24 24\"\n",
       "       width=\"24px\">\n",
       "    <path d=\"M0 0h24v24H0V0z\" fill=\"none\"/>\n",
       "    <path d=\"M18.56 5.44l.94 2.06.94-2.06 2.06-.94-2.06-.94-.94-2.06-.94 2.06-2.06.94zm-11 1L8.5 8.5l.94-2.06 2.06-.94-2.06-.94L8.5 2.5l-.94 2.06-2.06.94zm10 10l.94 2.06.94-2.06 2.06-.94-2.06-.94-.94-2.06-.94 2.06-2.06.94z\"/><path d=\"M17.41 7.96l-1.37-1.37c-.4-.4-.92-.59-1.43-.59-.52 0-1.04.2-1.43.59L10.3 9.45l-7.72 7.72c-.78.78-.78 2.05 0 2.83L4 21.41c.39.39.9.59 1.41.59.51 0 1.02-.2 1.41-.59l7.78-7.78 2.81-2.81c.8-.78.8-2.07 0-2.86zM5.41 20L4 18.59l7.72-7.72 1.47 1.35L5.41 20z\"/>\n",
       "  </svg>\n",
       "      </button>\n",
       "      \n",
       "  <style>\n",
       "    .colab-df-container {\n",
       "      display:flex;\n",
       "      flex-wrap:wrap;\n",
       "      gap: 12px;\n",
       "    }\n",
       "\n",
       "    .colab-df-convert {\n",
       "      background-color: #E8F0FE;\n",
       "      border: none;\n",
       "      border-radius: 50%;\n",
       "      cursor: pointer;\n",
       "      display: none;\n",
       "      fill: #1967D2;\n",
       "      height: 32px;\n",
       "      padding: 0 0 0 0;\n",
       "      width: 32px;\n",
       "    }\n",
       "\n",
       "    .colab-df-convert:hover {\n",
       "      background-color: #E2EBFA;\n",
       "      box-shadow: 0px 1px 2px rgba(60, 64, 67, 0.3), 0px 1px 3px 1px rgba(60, 64, 67, 0.15);\n",
       "      fill: #174EA6;\n",
       "    }\n",
       "\n",
       "    [theme=dark] .colab-df-convert {\n",
       "      background-color: #3B4455;\n",
       "      fill: #D2E3FC;\n",
       "    }\n",
       "\n",
       "    [theme=dark] .colab-df-convert:hover {\n",
       "      background-color: #434B5C;\n",
       "      box-shadow: 0px 1px 3px 1px rgba(0, 0, 0, 0.15);\n",
       "      filter: drop-shadow(0px 1px 2px rgba(0, 0, 0, 0.3));\n",
       "      fill: #FFFFFF;\n",
       "    }\n",
       "  </style>\n",
       "\n",
       "      <script>\n",
       "        const buttonEl =\n",
       "          document.querySelector('#df-6bbd1634-5a3b-4922-bebf-d3ef0c322b4b button.colab-df-convert');\n",
       "        buttonEl.style.display =\n",
       "          google.colab.kernel.accessAllowed ? 'block' : 'none';\n",
       "\n",
       "        async function convertToInteractive(key) {\n",
       "          const element = document.querySelector('#df-6bbd1634-5a3b-4922-bebf-d3ef0c322b4b');\n",
       "          const dataTable =\n",
       "            await google.colab.kernel.invokeFunction('convertToInteractive',\n",
       "                                                     [key], {});\n",
       "          if (!dataTable) return;\n",
       "\n",
       "          const docLinkHtml = 'Like what you see? Visit the ' +\n",
       "            '<a target=\"_blank\" href=https://colab.research.google.com/notebooks/data_table.ipynb>data table notebook</a>'\n",
       "            + ' to learn more about interactive tables.';\n",
       "          element.innerHTML = '';\n",
       "          dataTable['output_type'] = 'display_data';\n",
       "          await google.colab.output.renderOutput(dataTable, element);\n",
       "          const docLink = document.createElement('div');\n",
       "          docLink.innerHTML = docLinkHtml;\n",
       "          element.appendChild(docLink);\n",
       "        }\n",
       "      </script>\n",
       "    </div>\n",
       "  </div>\n",
       "  "
      ],
      "text/plain": [
       "                     null_count  null_percentage\n",
       "job_id                        0             0.00\n",
       "title                         0             0.00\n",
       "location                    346             1.94\n",
       "department                11547            64.58\n",
       "salary_range              15012            83.96\n",
       "company_profile            3308            18.50\n",
       "description                   1             0.01\n",
       "requirements               2695            15.07\n",
       "benefits                   7210            40.32\n",
       "telecommuting                 0             0.00\n",
       "has_company_logo              0             0.00\n",
       "has_questions                 0             0.00\n",
       "employment_type            3471            19.41\n",
       "required_experience        7050            39.43\n",
       "required_education         8105            45.33\n",
       "industry                   4903            27.42\n",
       "function                   6455            36.10\n",
       "fraudulent                    0             0.00"
      ]
     },
     "execution_count": 8,
     "metadata": {},
     "output_type": "execute_result"
    }
   ],
   "source": [
    "# Check for null values\n",
    "\n",
    "pd.DataFrame({'null_count': df.isnull().sum(), 'null_percentage': round(df.isnull().sum() * 100 / df.shape[0],2)})"
   ]
  },
  {
   "cell_type": "markdown",
   "metadata": {
    "id": "zSBBbgCOqnxj"
   },
   "source": [
    "We notice that there are many records in this dataset contain NULL values for some features."
   ]
  },
  {
   "cell_type": "code",
   "execution_count": 9,
   "metadata": {
    "colab": {
     "base_uri": "https://localhost:8080/",
     "height": 0
    },
    "id": "tcv0gR00oZ15",
    "outputId": "e7e2c012-8f26-4c21-e1bb-7ed3b8893800"
   },
   "outputs": [
    {
     "data": {
      "text/plain": [
       "17106"
      ]
     },
     "execution_count": 9,
     "metadata": {},
     "output_type": "execute_result"
    }
   ],
   "source": [
    "# Check the exact number of rows with at least one null value.\n",
    "\n",
    "df.shape[0] - df.dropna().shape[0]"
   ]
  },
  {
   "cell_type": "markdown",
   "metadata": {
    "id": "2ULH6ogBq4wt"
   },
   "source": [
    "## **Pre-processing** - **Removing all records with null** **values**"
   ]
  },
  {
   "cell_type": "markdown",
   "metadata": {
    "id": "bx1-yQJprHbx"
   },
   "source": [
    "Prepare the data:\n",
    "\n",
    "1. Encode the label column and delete invalid data in the label (fraudulent) column. Delete any rows that contain fraudulent values other than 0 or 1.\n",
    "\n",
    "2. List the missing values per attribute and their percentages. Deal with the attributes that contain too many null values. (Delete any attributes that have more than 1% null values.)\n",
    "\n",
    "3. Clean the datasets: remove anything that is not a letter, remove multiple spaces, lower case everything.\n",
    "\n",
    "4. The data is highly unbalanced. You need to remedy this before you attempt to create a model. There is a function in pySpark called sampleby that will help you accomplish this. Undersample the majority class.\n",
    "\n",
    "5. Split text into words, remove stopwords, and convert text into vectors (your choice of encoding). Help: feature extractors and feature transformers .\n",
    "Perform a random split (70%,30%) of the data into training and test."
   ]
  },
  {
   "cell_type": "code",
   "execution_count": 26,
   "metadata": {
    "colab": {
     "base_uri": "https://localhost:8080/",
     "height": 0
    },
    "id": "qggwrQQTP3Fr",
    "outputId": "dfd47120-4da6-48d4-a037-a863ea46e063"
   },
   "outputs": [
    {
     "name": "stdout",
     "output_type": "stream",
     "text": [
      "<class 'pandas.core.frame.DataFrame'>\n",
      "Int64Index: 774 entries, 6 to 17865\n",
      "Data columns (total 18 columns):\n",
      " #   Column               Non-Null Count  Dtype  \n",
      "---  ------               --------------  -----  \n",
      " 0   job_id               774 non-null    int64  \n",
      " 1   title                774 non-null    object \n",
      " 2   location             774 non-null    object \n",
      " 3   department           774 non-null    float64\n",
      " 4   salary_range         774 non-null    object \n",
      " 5   company_profile      774 non-null    object \n",
      " 6   description          774 non-null    object \n",
      " 7   requirements         774 non-null    object \n",
      " 8   benefits             774 non-null    object \n",
      " 9   telecommuting        774 non-null    int64  \n",
      " 10  has_company_logo     774 non-null    int64  \n",
      " 11  has_questions        774 non-null    int64  \n",
      " 12  employment_type      774 non-null    float64\n",
      " 13  required_experience  774 non-null    float64\n",
      " 14  required_education   774 non-null    float64\n",
      " 15  industry             774 non-null    float64\n",
      " 16  function             774 non-null    float64\n",
      " 17  fraudulent           774 non-null    int64  \n",
      "dtypes: float64(6), int64(5), object(7)\n",
      "memory usage: 114.9+ KB\n"
     ]
    }
   ],
   "source": [
    "# Removing all records which contain null values in at least one feature.\n",
    "\n",
    "df_new = df.dropna(how='any', subset=categorical_features+string_features+['salary_range'], axis=0)\n",
    "df_new.info()"
   ]
  },
  {
   "cell_type": "code",
   "execution_count": 27,
   "metadata": {
    "id": "XFk9gQW-rhQo"
   },
   "outputs": [],
   "source": [
    "# Removes characters which correspond to digits\n",
    "def remove_digits(text):\n",
    "    text = re.sub(r'[0-9]', ' ', text)\n",
    "    return text\n",
    "\n",
    "# Removes non-alphanumeric characters\n",
    "def remove_non_alpanumeric(text):\n",
    "    text = re.sub(r'[^a-zA-Z0-9]', ' ', text)\n",
    "    return text\n",
    "\n",
    "# Removes non-english letter characters\n",
    "def remove_non_letters(text):\n",
    "    text = re.sub(r'[^a-zA-Z]', ' ', text)\n",
    "    return text\n",
    "\n",
    "# Remove any non-words\n",
    "def remove_non_words(text):\n",
    "    text = re.sub('[\\W_]+', ' ', text)\n",
    "    return text\n",
    "\n",
    "# Removes words which contain numerical digits between letters\n",
    "def remove_words_with_numbers(text):\n",
    "    text = re.sub(r'\\w*\\d\\w*', ' ', text)\n",
    "    return text\n",
    "\n",
    "# Removes hyperlinks\n",
    "def remove_hyperlinks(text):\n",
    "    text = re.sub(r'(https?:\\/\\/)?([\\da-z\\.-]+)\\.([a-z\\.]{2,6})([\\/\\w \\.-])', ' ', text)\n",
    "    return text\n",
    "\n",
    "# Removes all HTML tags\n",
    "def remove_html_tags(text):\n",
    "    text = re.sub('<[^>]+>', ' ', text)\n",
    "    return text\n",
    "\n",
    "# Replaces contractions with the full words (e.g. I'll --> I will)\n",
    "def expand_contractions(text, contractions_re, contractions_dict):\n",
    "    def replace(match):\n",
    "        return contractions_dict[match.group(0)]\n",
    "    return contractions_re.sub(replace, text)\n",
    "    "
   ]
  },
  {
   "cell_type": "code",
   "execution_count": 28,
   "metadata": {
    "id": "kUIwPMK7r3vz"
   },
   "outputs": [],
   "source": [
    "# Preprocesses (cleans) text by performing the following operations:\n",
    "    # Converting text to lowercase\n",
    "    # Expanding contractions\n",
    "    # Removing URLs\n",
    "    # Removing non-alphanumeric characters\n",
    "    # Removing non-digit characters\n",
    "    # Removing tabs and redundant whitespaces\n",
    "    # Performing stemming\n",
    "    # Performing lemmatization\n",
    "    # Replacing the empty strings and NULL entries (before and after preprocessing), with the string \"emptystring\"\n",
    "\n",
    "def text_preprocess(text, contractions_re, contractions_dict, stopwords=None, lemmatizer=None, stemmer=None):\n",
    "    if text and text is not np.nan and text.lower() != 'nan':\n",
    "        text = text.lower()\n",
    "        text = remove_hyperlinks(text)\n",
    "        text = remove_html_tags(text)\n",
    "        text = expand_contractions(text, contractions_re, contractions_dict)\n",
    "        text = remove_non_letters(text)\n",
    "        tokens = nltk.word_tokenize(text)\n",
    "        \n",
    "        if not tokens:\n",
    "            text = 'emptystring'\n",
    "        \n",
    "        else:\n",
    "            if stemmer:\n",
    "                tokens = [stemmer.stem(token) for token in tokens]\n",
    "            \n",
    "            if lemmatizer:\n",
    "                tokens = [lemmatizer.lemmatize(token) for token in tokens]\n",
    "            tokens = [x for x in tokens if x not in set(stopwords)]\n",
    "            text = ' '.join(tokens)\n",
    "            \n",
    "            if not text or len(text) < 2:\n",
    "                text = 'emptystring'\n",
    "        \n",
    "    return text\n"
   ]
  },
  {
   "cell_type": "code",
   "execution_count": 29,
   "metadata": {
    "colab": {
     "base_uri": "https://localhost:8080/",
     "height": 0
    },
    "id": "0Pv6SO9kr_we",
    "outputId": "ca21ea75-779e-4f2b-f931-180637b3e889"
   },
   "outputs": [
    {
     "name": "stderr",
     "output_type": "stream",
     "text": [
      "[nltk_data] Downloading package punkt to /root/nltk_data...\n",
      "[nltk_data]   Package punkt is already up-to-date!\n",
      "[nltk_data] Downloading package stopwords to /root/nltk_data...\n",
      "[nltk_data]   Package stopwords is already up-to-date!\n",
      "[nltk_data] Downloading package wordnet to /root/nltk_data...\n",
      "[nltk_data]   Package wordnet is already up-to-date!\n"
     ]
    }
   ],
   "source": [
    "# Download NLTK tools\n",
    "nltk.download('punkt')\n",
    "nltk.download('stopwords')\n",
    "nltk.download('wordnet')\n",
    "\n",
    "# Initializes stop words, stemmer and lemmatizer\n",
    "stop_words = set(stopwords.words('english')+list(STOPWORDS)+list(ENGLISH_STOP_WORDS))\n",
    "lemmatizer = WordNetLemmatizer()\n",
    "\n",
    "# Dictionary with contractions\n",
    "contractions_dict = {\"ain't\": \"are not\", \"'s\":\" is\", \"aren't\": \"are not\", \"can't\": \"cannot\", \"can't've\": \"cannot have\", \"‘cause\": \"because\", \n",
    "                     \"could've\": \"could have\", \"couldn't\": \"could not\", \"couldn't've\": \"could not have\", \"didn't\": \"did not\", \"doesn't\": \"does not\", \n",
    "                     \"don't\": \"do not\", \"hadn't\": \"had not\", \"hadn't've\": \"had not have\", \"hasn't\": \"has not\", \"haven't\": \"have not\", \"he'd\": \"he would\", \n",
    "                     \"he'd've\": \"he would have\", \"he'll\": \"he will\", \"he'll've\": \"he will have\", \"how'd\": \"how did\", \"how'd'y\": \"how do you\", \n",
    "                     \"how'll\": \"how will\", \"I'd\": \"I would\", \"I'd've\": \"I would have\", \"I'll\": \"I will\", \"I'll've\": \"I will have\", \"I'm\": \"I am\", \n",
    "                     \"I've\": \"I have\", \"isn't\": \"is not\", \"it'd\": \"it would\", \"it'd've\": \"it would have\", \"it'll\": \"it will\", \"it'll've\": \"it will have\", \n",
    "                     \"let's\": \"let us\", \"ma'am\": \"madam\", \"mayn't\": \"may not\", \"might've\": \"might have\", \"mightn't\": \"might not\", \"mightn't've\": \"might not have\", \n",
    "                     \"must've\": \"must have\", \"mustn't\": \"must not\", \"mustn't've\": \"must not have\", \"needn't\": \"need not\", \"needn't've\": \"need not have\", \n",
    "                     \"o'clock\": \"of the clock\", \"oughtn't\": \"ought not\", \"oughtn't've\": \"ought not have\", \"shan't\": \"shall not\", \"sha'n't\": \"shall not\", \n",
    "                     \"shan't've\": \"shall not have\", \"she'd\": \"she would\", \"she'd've\": \"she would have\", \"she'll\": \"she will\", \"she'll've\": \"she will have\", \n",
    "                     \"should've\": \"should have\", \"shouldn't\": \"should not\", \"shouldn't've\": \"should not have\", \"so've\": \"so have\", \"that'd\": \"that would\", \n",
    "                     \"that'd've\": \"that would have\", \"there'd\": \"there would\", \"there'd've\": \"there would have\", \"they'd\": \"they would\", \n",
    "                     \"they'd've\": \"they would have\",\"they'll\": \"they will\", \"they'll've\": \"they will have\", \"they're\": \"they are\", \"they've\": \"they have\", \n",
    "                     \"to've\": \"to have\", \"wasn't\": \"was not\", \"we'd\": \"we would\", \"we'd've\": \"we would have\", \"we'll\": \"we will\", \"we'll've\": \"we will have\", \n",
    "                     \"we're\": \"we are\", \"we've\": \"we have\", \"weren't\": \"were not\",\"what'll\": \"what will\", \"what'll've\": \"what will have\", \"what're\": \"what are\", \n",
    "                     \"what've\": \"what have\", \"when've\": \"when have\", \"where'd\": \"where did\", \"where've\": \"where have\", \"who'll\": \"who will\", \n",
    "                     \"who'll've\": \"who will have\", \"who've\": \"who have\", \"why've\": \"why have\", \"will've\": \"will have\", \"won't\": \"will not\", \n",
    "                     \"won't've\": \"will not have\", \"would've\": \"would have\", \"wouldn't\": \"would not\", \"wouldn't've\": \"would not have\", \"y'all\": \"you all\", \n",
    "                     \"y'all'd\": \"you all would\", \"y'all'd've\": \"you all would have\", \"y'all're\": \"you all are\", \"y'all've\": \"you all have\", \"you'd\": \"you would\", \n",
    "                     \"you'd've\": \"you would have\", \"you'll\": \"you will\", \"you'll've\": \"you will have\", \"you're\": \"you are\", \"you've\": \"you have\"}\n",
    "\n",
    "# Regular expression to identify contractions\n",
    "contractions_re = re.compile('(%s)'%'|'.join(contractions_dict.keys()))\n"
   ]
  },
  {
   "cell_type": "code",
   "execution_count": 30,
   "metadata": {
    "id": "-tQzmo5osJ6M"
   },
   "outputs": [],
   "source": [
    "# Replacing null values with the most common value in the respective fields\n",
    "\n",
    "def replace_null(df, categorical_features):\n",
    "    df_new = df.copy()\n",
    "    \n",
    "    for c in categorical_features:        \n",
    "        df_new.loc[df_new['fraudulent'] == 0, [c]] = df_new.loc[df_new['fraudulent'] == 0, [c]].fillna(df_new.loc[df_new['fraudulent'] == 0, c].mode()[0])\n",
    "        df_new.loc[df_new['fraudulent'] == 1, [c]] = df_new.loc[df_new['fraudulent'] == 1, [c]].fillna(df_new.loc[df_new['fraudulent'] == 1, c].mode()[0])\n",
    "    \n",
    "    return df_new\n"
   ]
  },
  {
   "cell_type": "code",
   "execution_count": 31,
   "metadata": {
    "id": "_n6SgG01saYp"
   },
   "outputs": [],
   "source": [
    "# Transforming categorical string fields to numerical\n",
    "\n",
    "def cat2num(df, categorical_features):\n",
    "    df_new = df.copy()\n",
    "    \n",
    "    for c in categorical_features:\n",
    "        \n",
    "        if df_new[c].dtype != np.int64:\n",
    "            df_new.loc[:,[c]] = LabelEncoder().fit_transform(df_new[c].astype(\"category\").cat.codes)\n",
    "            df_new[c].replace(0, np.nan, inplace=True)\n",
    "    \n",
    "    return df_new"
   ]
  },
  {
   "cell_type": "code",
   "execution_count": 32,
   "metadata": {
    "id": "JO3mKEeutI-q"
   },
   "outputs": [],
   "source": [
    "# Applying string preprocessing to the specified fields by appling the text preprocessing function \n",
    "# to the dataframe features that are contained in string_features list\n",
    "\n",
    "def clean_strings(df, string_features):\n",
    "    df_new = df.copy()\n",
    "    \n",
    "    for c in string_features:\n",
    "        df_new.loc[:,[c]] = df_new[df_new[c].astype(str) != 'nan'][c].apply(lambda x: text_preprocess(str(x), contractions_re, contractions_dict, stop_words, lemmatizer)).astype(str)\n",
    "    \n",
    "    return df_new"
   ]
  },
  {
   "cell_type": "code",
   "execution_count": 35,
   "metadata": {
    "colab": {
     "base_uri": "https://localhost:8080/",
     "height": 489
    },
    "id": "MDqKdJ-6QXRS",
    "outputId": "c30daf59-a736-422c-e01a-dbe44e9abb54"
   },
   "outputs": [
    {
     "name": "stderr",
     "output_type": "stream",
     "text": [
      "[nltk_data] Downloading package punkt to /root/nltk_data...\n",
      "[nltk_data]   Package punkt is already up-to-date!\n",
      "[nltk_data] Downloading package stopwords to /root/nltk_data...\n",
      "[nltk_data]   Package stopwords is already up-to-date!\n",
      "[nltk_data] Downloading package wordnet to /root/nltk_data...\n",
      "[nltk_data]   Package wordnet is already up-to-date!\n",
      "[nltk_data] Downloading package omw-1.4 to /root/nltk_data...\n"
     ]
    },
    {
     "data": {
      "text/html": [
       "\n",
       "  <div id=\"df-71c9e8c3-6eef-48fa-81bb-018f52009e22\">\n",
       "    <div class=\"colab-df-container\">\n",
       "      <div>\n",
       "<style scoped>\n",
       "    .dataframe tbody tr th:only-of-type {\n",
       "        vertical-align: middle;\n",
       "    }\n",
       "\n",
       "    .dataframe tbody tr th {\n",
       "        vertical-align: top;\n",
       "    }\n",
       "\n",
       "    .dataframe thead th {\n",
       "        text-align: right;\n",
       "    }\n",
       "</style>\n",
       "<table border=\"1\" class=\"dataframe\">\n",
       "  <thead>\n",
       "    <tr style=\"text-align: right;\">\n",
       "      <th></th>\n",
       "      <th>job_id</th>\n",
       "      <th>department</th>\n",
       "      <th>telecommuting</th>\n",
       "      <th>has_company_logo</th>\n",
       "      <th>has_questions</th>\n",
       "      <th>employment_type</th>\n",
       "      <th>required_experience</th>\n",
       "      <th>required_education</th>\n",
       "      <th>industry</th>\n",
       "      <th>function</th>\n",
       "      <th>fraudulent</th>\n",
       "      <th>min_salary</th>\n",
       "      <th>max_salary</th>\n",
       "    </tr>\n",
       "  </thead>\n",
       "  <tbody>\n",
       "    <tr>\n",
       "      <th>count</th>\n",
       "      <td>774.000000</td>\n",
       "      <td>774.000000</td>\n",
       "      <td>774.000000</td>\n",
       "      <td>774.000000</td>\n",
       "      <td>774.000000</td>\n",
       "      <td>774.000000</td>\n",
       "      <td>774.000000</td>\n",
       "      <td>774.000000</td>\n",
       "      <td>774.000000</td>\n",
       "      <td>774.000000</td>\n",
       "      <td>774.000000</td>\n",
       "      <td>7.740000e+02</td>\n",
       "      <td>7.740000e+02</td>\n",
       "    </tr>\n",
       "    <tr>\n",
       "      <th>mean</th>\n",
       "      <td>8664.093023</td>\n",
       "      <td>686.856589</td>\n",
       "      <td>0.094315</td>\n",
       "      <td>0.978036</td>\n",
       "      <td>0.673127</td>\n",
       "      <td>2.027132</td>\n",
       "      <td>3.852713</td>\n",
       "      <td>4.184755</td>\n",
       "      <td>57.157623</td>\n",
       "      <td>19.093023</td>\n",
       "      <td>0.093023</td>\n",
       "      <td>1.731337e+06</td>\n",
       "      <td>2.658515e+06</td>\n",
       "    </tr>\n",
       "    <tr>\n",
       "      <th>std</th>\n",
       "      <td>5014.106692</td>\n",
       "      <td>349.137620</td>\n",
       "      <td>0.292456</td>\n",
       "      <td>0.146660</td>\n",
       "      <td>0.469374</td>\n",
       "      <td>0.455568</td>\n",
       "      <td>2.188766</td>\n",
       "      <td>2.998615</td>\n",
       "      <td>29.994022</td>\n",
       "      <td>9.349703</td>\n",
       "      <td>0.290653</td>\n",
       "      <td>3.388751e+07</td>\n",
       "      <td>5.180494e+07</td>\n",
       "    </tr>\n",
       "    <tr>\n",
       "      <th>min</th>\n",
       "      <td>7.000000</td>\n",
       "      <td>2.000000</td>\n",
       "      <td>0.000000</td>\n",
       "      <td>0.000000</td>\n",
       "      <td>0.000000</td>\n",
       "      <td>1.000000</td>\n",
       "      <td>1.000000</td>\n",
       "      <td>1.000000</td>\n",
       "      <td>1.000000</td>\n",
       "      <td>1.000000</td>\n",
       "      <td>0.000000</td>\n",
       "      <td>0.000000e+00</td>\n",
       "      <td>0.000000e+00</td>\n",
       "    </tr>\n",
       "    <tr>\n",
       "      <th>25%</th>\n",
       "      <td>4483.500000</td>\n",
       "      <td>380.000000</td>\n",
       "      <td>0.000000</td>\n",
       "      <td>1.000000</td>\n",
       "      <td>0.000000</td>\n",
       "      <td>2.000000</td>\n",
       "      <td>1.000000</td>\n",
       "      <td>2.000000</td>\n",
       "      <td>27.000000</td>\n",
       "      <td>13.000000</td>\n",
       "      <td>0.000000</td>\n",
       "      <td>2.400000e+04</td>\n",
       "      <td>3.120000e+04</td>\n",
       "    </tr>\n",
       "    <tr>\n",
       "      <th>50%</th>\n",
       "      <td>8542.000000</td>\n",
       "      <td>734.500000</td>\n",
       "      <td>0.000000</td>\n",
       "      <td>1.000000</td>\n",
       "      <td>1.000000</td>\n",
       "      <td>2.000000</td>\n",
       "      <td>3.000000</td>\n",
       "      <td>2.000000</td>\n",
       "      <td>59.000000</td>\n",
       "      <td>19.000000</td>\n",
       "      <td>0.000000</td>\n",
       "      <td>4.000000e+04</td>\n",
       "      <td>5.450000e+04</td>\n",
       "    </tr>\n",
       "    <tr>\n",
       "      <th>75%</th>\n",
       "      <td>12922.250000</td>\n",
       "      <td>1055.000000</td>\n",
       "      <td>0.000000</td>\n",
       "      <td>1.000000</td>\n",
       "      <td>1.000000</td>\n",
       "      <td>2.000000</td>\n",
       "      <td>6.000000</td>\n",
       "      <td>5.000000</td>\n",
       "      <td>76.000000</td>\n",
       "      <td>26.000000</td>\n",
       "      <td>0.000000</td>\n",
       "      <td>6.500000e+04</td>\n",
       "      <td>9.000000e+04</td>\n",
       "    </tr>\n",
       "    <tr>\n",
       "      <th>max</th>\n",
       "      <td>17866.000000</td>\n",
       "      <td>1330.000000</td>\n",
       "      <td>1.000000</td>\n",
       "      <td>1.000000</td>\n",
       "      <td>1.000000</td>\n",
       "      <td>5.000000</td>\n",
       "      <td>7.000000</td>\n",
       "      <td>13.000000</td>\n",
       "      <td>131.000000</td>\n",
       "      <td>37.000000</td>\n",
       "      <td>1.000000</td>\n",
       "      <td>8.000000e+08</td>\n",
       "      <td>1.200000e+09</td>\n",
       "    </tr>\n",
       "  </tbody>\n",
       "</table>\n",
       "</div>\n",
       "      <button class=\"colab-df-convert\" onclick=\"convertToInteractive('df-71c9e8c3-6eef-48fa-81bb-018f52009e22')\"\n",
       "              title=\"Convert this dataframe to an interactive table.\"\n",
       "              style=\"display:none;\">\n",
       "        \n",
       "  <svg xmlns=\"http://www.w3.org/2000/svg\" height=\"24px\"viewBox=\"0 0 24 24\"\n",
       "       width=\"24px\">\n",
       "    <path d=\"M0 0h24v24H0V0z\" fill=\"none\"/>\n",
       "    <path d=\"M18.56 5.44l.94 2.06.94-2.06 2.06-.94-2.06-.94-.94-2.06-.94 2.06-2.06.94zm-11 1L8.5 8.5l.94-2.06 2.06-.94-2.06-.94L8.5 2.5l-.94 2.06-2.06.94zm10 10l.94 2.06.94-2.06 2.06-.94-2.06-.94-.94-2.06-.94 2.06-2.06.94z\"/><path d=\"M17.41 7.96l-1.37-1.37c-.4-.4-.92-.59-1.43-.59-.52 0-1.04.2-1.43.59L10.3 9.45l-7.72 7.72c-.78.78-.78 2.05 0 2.83L4 21.41c.39.39.9.59 1.41.59.51 0 1.02-.2 1.41-.59l7.78-7.78 2.81-2.81c.8-.78.8-2.07 0-2.86zM5.41 20L4 18.59l7.72-7.72 1.47 1.35L5.41 20z\"/>\n",
       "  </svg>\n",
       "      </button>\n",
       "      \n",
       "  <style>\n",
       "    .colab-df-container {\n",
       "      display:flex;\n",
       "      flex-wrap:wrap;\n",
       "      gap: 12px;\n",
       "    }\n",
       "\n",
       "    .colab-df-convert {\n",
       "      background-color: #E8F0FE;\n",
       "      border: none;\n",
       "      border-radius: 50%;\n",
       "      cursor: pointer;\n",
       "      display: none;\n",
       "      fill: #1967D2;\n",
       "      height: 32px;\n",
       "      padding: 0 0 0 0;\n",
       "      width: 32px;\n",
       "    }\n",
       "\n",
       "    .colab-df-convert:hover {\n",
       "      background-color: #E2EBFA;\n",
       "      box-shadow: 0px 1px 2px rgba(60, 64, 67, 0.3), 0px 1px 3px 1px rgba(60, 64, 67, 0.15);\n",
       "      fill: #174EA6;\n",
       "    }\n",
       "\n",
       "    [theme=dark] .colab-df-convert {\n",
       "      background-color: #3B4455;\n",
       "      fill: #D2E3FC;\n",
       "    }\n",
       "\n",
       "    [theme=dark] .colab-df-convert:hover {\n",
       "      background-color: #434B5C;\n",
       "      box-shadow: 0px 1px 3px 1px rgba(0, 0, 0, 0.15);\n",
       "      filter: drop-shadow(0px 1px 2px rgba(0, 0, 0, 0.3));\n",
       "      fill: #FFFFFF;\n",
       "    }\n",
       "  </style>\n",
       "\n",
       "      <script>\n",
       "        const buttonEl =\n",
       "          document.querySelector('#df-71c9e8c3-6eef-48fa-81bb-018f52009e22 button.colab-df-convert');\n",
       "        buttonEl.style.display =\n",
       "          google.colab.kernel.accessAllowed ? 'block' : 'none';\n",
       "\n",
       "        async function convertToInteractive(key) {\n",
       "          const element = document.querySelector('#df-71c9e8c3-6eef-48fa-81bb-018f52009e22');\n",
       "          const dataTable =\n",
       "            await google.colab.kernel.invokeFunction('convertToInteractive',\n",
       "                                                     [key], {});\n",
       "          if (!dataTable) return;\n",
       "\n",
       "          const docLinkHtml = 'Like what you see? Visit the ' +\n",
       "            '<a target=\"_blank\" href=https://colab.research.google.com/notebooks/data_table.ipynb>data table notebook</a>'\n",
       "            + ' to learn more about interactive tables.';\n",
       "          element.innerHTML = '';\n",
       "          dataTable['output_type'] = 'display_data';\n",
       "          await google.colab.output.renderOutput(dataTable, element);\n",
       "          const docLink = document.createElement('div');\n",
       "          docLink.innerHTML = docLinkHtml;\n",
       "          element.appendChild(docLink);\n",
       "        }\n",
       "      </script>\n",
       "    </div>\n",
       "  </div>\n",
       "  "
      ],
      "text/plain": [
       "             job_id   department  telecommuting  has_company_logo  \\\n",
       "count    774.000000   774.000000     774.000000        774.000000   \n",
       "mean    8664.093023   686.856589       0.094315          0.978036   \n",
       "std     5014.106692   349.137620       0.292456          0.146660   \n",
       "min        7.000000     2.000000       0.000000          0.000000   \n",
       "25%     4483.500000   380.000000       0.000000          1.000000   \n",
       "50%     8542.000000   734.500000       0.000000          1.000000   \n",
       "75%    12922.250000  1055.000000       0.000000          1.000000   \n",
       "max    17866.000000  1330.000000       1.000000          1.000000   \n",
       "\n",
       "       has_questions  employment_type  required_experience  \\\n",
       "count     774.000000       774.000000           774.000000   \n",
       "mean        0.673127         2.027132             3.852713   \n",
       "std         0.469374         0.455568             2.188766   \n",
       "min         0.000000         1.000000             1.000000   \n",
       "25%         0.000000         2.000000             1.000000   \n",
       "50%         1.000000         2.000000             3.000000   \n",
       "75%         1.000000         2.000000             6.000000   \n",
       "max         1.000000         5.000000             7.000000   \n",
       "\n",
       "       required_education    industry    function  fraudulent    min_salary  \\\n",
       "count          774.000000  774.000000  774.000000  774.000000  7.740000e+02   \n",
       "mean             4.184755   57.157623   19.093023    0.093023  1.731337e+06   \n",
       "std              2.998615   29.994022    9.349703    0.290653  3.388751e+07   \n",
       "min              1.000000    1.000000    1.000000    0.000000  0.000000e+00   \n",
       "25%              2.000000   27.000000   13.000000    0.000000  2.400000e+04   \n",
       "50%              2.000000   59.000000   19.000000    0.000000  4.000000e+04   \n",
       "75%              5.000000   76.000000   26.000000    0.000000  6.500000e+04   \n",
       "max             13.000000  131.000000   37.000000    1.000000  8.000000e+08   \n",
       "\n",
       "         max_salary  \n",
       "count  7.740000e+02  \n",
       "mean   2.658515e+06  \n",
       "std    5.180494e+07  \n",
       "min    0.000000e+00  \n",
       "25%    3.120000e+04  \n",
       "50%    5.450000e+04  \n",
       "75%    9.000000e+04  \n",
       "max    1.200000e+09  "
      ]
     },
     "execution_count": 35,
     "metadata": {},
     "output_type": "execute_result"
    }
   ],
   "source": [
    "#  Performing some text preprocessing on the string features of the records that remain\n",
    "# Download NLTK tools\n",
    "\n",
    "import nltk\n",
    "\n",
    "nltk.download('punkt')\n",
    "nltk.download('stopwords')\n",
    "nltk.download('wordnet')\n",
    "nltk.download('omw-1.4')\n",
    "\n",
    "df_new = clean_strings(df_new, string_features)\n",
    "\n",
    "salary = df_new['salary_range'].str.split('-', n=1, expand=True)\n",
    "salary[0] = pd.to_numeric(salary[0], errors='coerce')\n",
    "salary[1] = pd.to_numeric(salary[1], errors='coerce')\n",
    "df_new['min_salary'] = salary[0].astype(float)\n",
    "df_new['max_salary'] = salary[1].astype(float)\n",
    "\n",
    "df_new.describe()"
   ]
  },
  {
   "cell_type": "markdown",
   "metadata": {
    "id": "QRmMlAJzRYJh"
   },
   "source": [
    "We observe that half the records are from the original dataset and that the class imbalance situtation got decremented from 95% - 5% to 98% - 2%. Checking if there exist any outliers in the data by considering the salary range feature."
   ]
  },
  {
   "cell_type": "code",
   "execution_count": 36,
   "metadata": {
    "colab": {
     "base_uri": "https://localhost:8080/",
     "height": 1000
    },
    "id": "wolrMTBiSKhL",
    "outputId": "c39ea0fd-32ed-41c6-8d5b-611d4b97f9c5"
   },
   "outputs": [
    {
     "name": "stderr",
     "output_type": "stream",
     "text": [
      "/usr/local/lib/python3.7/dist-packages/seaborn/_decorators.py:43: FutureWarning: Pass the following variable as a keyword arg: x. From version 0.12, the only valid positional argument will be `data`, and passing other arguments without an explicit keyword will result in an error or misinterpretation.\n",
      "  FutureWarning\n",
      "/usr/local/lib/python3.7/dist-packages/seaborn/distributions.py:2619: FutureWarning: `distplot` is a deprecated function and will be removed in a future version. Please adapt your code to use either `displot` (a figure-level function with similar flexibility) or `histplot` (an axes-level function for histograms).\n",
      "  warnings.warn(msg, FutureWarning)\n",
      "/usr/local/lib/python3.7/dist-packages/seaborn/_decorators.py:43: FutureWarning: Pass the following variable as a keyword arg: x. From version 0.12, the only valid positional argument will be `data`, and passing other arguments without an explicit keyword will result in an error or misinterpretation.\n",
      "  FutureWarning\n",
      "/usr/local/lib/python3.7/dist-packages/seaborn/distributions.py:2619: FutureWarning: `distplot` is a deprecated function and will be removed in a future version. Please adapt your code to use either `displot` (a figure-level function with similar flexibility) or `histplot` (an axes-level function for histograms).\n",
      "  warnings.warn(msg, FutureWarning)\n",
      "/usr/local/lib/python3.7/dist-packages/seaborn/_decorators.py:43: FutureWarning: Pass the following variable as a keyword arg: x. From version 0.12, the only valid positional argument will be `data`, and passing other arguments without an explicit keyword will result in an error or misinterpretation.\n",
      "  FutureWarning\n",
      "/usr/local/lib/python3.7/dist-packages/seaborn/distributions.py:2619: FutureWarning: `distplot` is a deprecated function and will be removed in a future version. Please adapt your code to use either `displot` (a figure-level function with similar flexibility) or `histplot` (an axes-level function for histograms).\n",
      "  warnings.warn(msg, FutureWarning)\n",
      "/usr/local/lib/python3.7/dist-packages/seaborn/_decorators.py:43: FutureWarning: Pass the following variable as a keyword arg: x. From version 0.12, the only valid positional argument will be `data`, and passing other arguments without an explicit keyword will result in an error or misinterpretation.\n",
      "  FutureWarning\n",
      "/usr/local/lib/python3.7/dist-packages/seaborn/distributions.py:2619: FutureWarning: `distplot` is a deprecated function and will be removed in a future version. Please adapt your code to use either `displot` (a figure-level function with similar flexibility) or `histplot` (an axes-level function for histograms).\n",
      "  warnings.warn(msg, FutureWarning)\n"
     ]
    },
    {
     "data": {
      "text/plain": [
       "[Text(0, 0.5, 'Count'),\n",
       " Text(0.5, 0, 'Salary'),\n",
       " Text(0.5, 1.0, 'Maximum salary in fake job postings')]"
      ]
     },
     "execution_count": 36,
     "metadata": {},
     "output_type": "execute_result"
    },
    {
     "data": {
      "image/png": "[encoded data removed]",
      "text/plain": [
       "<Figure size 1440x2304 with 8 Axes>"
      ]
     },
     "metadata": {
      "needs_background": "light"
     },
     "output_type": "display_data"
    }
   ],
   "source": [
    "# Plotting the data\n",
    "\n",
    "fig, ax = plt.subplots(4, 2, figsize=(20,32))\n",
    "\n",
    "plt.subplot(4, 2, 1)\n",
    "sns.set(style='whitegrid')\n",
    "sns.boxplot(df_new.loc[df_new['fraudulent'] == 0, 'min_salary']).set(xlabel='Salary', title='Minimum salary in real job postings')\n",
    "\n",
    "plt.subplot(4, 2, 2)\n",
    "sns.set(style='whitegrid')\n",
    "sns.distplot(df_new.loc[df_new['fraudulent'] == 0, 'min_salary'], norm_hist=False, kde=False, bins=28, hist_kws={\"alpha\": 1}).\\\n",
    "    set(xlabel='Salary', ylabel='Count', title='Minimum salary in real job postings')\n",
    "\n",
    "plt.subplot(4, 2, 3)\n",
    "sns.set(style='whitegrid')\n",
    "sns.boxplot(df_new.loc[df_new['fraudulent'] == 0, 'max_salary']).set(xlabel='Salary', title='Maximum salary in real job postings')\n",
    "\n",
    "plt.subplot(4, 2, 4)\n",
    "sns.set(style='whitegrid')\n",
    "sns.distplot(df_new.loc[df_new['fraudulent'] == 0, 'max_salary'], norm_hist=False, kde=False, bins=28, hist_kws={\"alpha\": 1}).\\\n",
    "    set(xlabel='Salary', ylabel='Count', title='Maximum salary in real job postings')\n",
    "\n",
    "plt.subplot(4, 2, 5)\n",
    "sns.set(style='whitegrid')\n",
    "sns.boxplot(df_new.loc[df_new['fraudulent'] == 1, 'min_salary']).set(xlabel='Salary', title='Minimum salary in fake job postings')\n",
    "\n",
    "plt.subplot(4, 2, 6)\n",
    "sns.set(style='whitegrid')\n",
    "sns.distplot(df_new.loc[df_new['fraudulent'] == 1, 'min_salary'], norm_hist=False, kde=False, bins=28, hist_kws={\"alpha\": 1}).\\\n",
    "    set(xlabel='Salary', ylabel='Count', title='Minimum salary in fake job postings')\n",
    "\n",
    "plt.subplot(4, 2, 7)\n",
    "sns.set(style='whitegrid')\n",
    "sns.boxplot(df_new.loc[df_new['fraudulent'] == 1, 'max_salary']).set(xlabel='Salary', title='Maximum salary in fake job postings')\n",
    "\n",
    "plt.subplot(4, 2, 8)\n",
    "sns.set(style='whitegrid')\n",
    "sns.distplot(df_new.loc[df_new['fraudulent'] == 1, 'max_salary'], norm_hist=False, kde=False, bins=28, hist_kws={\"alpha\": 1}).\\\n",
    "    set(xlabel='Salary', ylabel='Count', title='Maximum salary in fake job postings')\n",
    "    "
   ]
  },
  {
   "cell_type": "code",
   "execution_count": 37,
   "metadata": {
    "id": "FSAX4I0KSj1J"
   },
   "outputs": [],
   "source": [
    "# Removing outliers\n",
    "\n",
    "q1, q3 = np.percentile(df_new.loc[df_new['fraudulent'] == 0, 'min_salary'].dropna(), [25 ,75])\n",
    "iqr = q3 - q1\n",
    "minminreal = max(0,q1-1.5*iqr)\n",
    "maxminreal = max(0,q3+1.5*iqr)\n",
    "\n",
    "q1, q3 = np.percentile(df_new.loc[df_new['fraudulent'] == 0, 'max_salary'].dropna(), [25 ,75])\n",
    "iqr = q3 - q1\n",
    "minmaxreal = max(0,q1-1.5*iqr)\n",
    "maxmaxreal = max(0,q3+1.5*iqr)\n",
    "\n",
    "q1, q3 = np.percentile(df_new.loc[df_new['fraudulent'] == 1, 'min_salary'].dropna(), [25 ,75])\n",
    "iqr = q3 - q1\n",
    "minminfake = max(0,q1-1.5*iqr)\n",
    "maxminfake = max(0,q3+1.5*iqr)\n",
    "\n",
    "q1, q3 = np.percentile(df_new.loc[df_new['fraudulent'] == 1, 'max_salary'].dropna(), [25 ,75])\n",
    "iqr = q3 - q1\n",
    "minmaxfake = max(0,q1-1.5*iqr)\n",
    "maxmaxfake = max(0,q3+1.5*iqr)\n"
   ]
  },
  {
   "cell_type": "code",
   "execution_count": 38,
   "metadata": {
    "id": "38hgHX7VS0I3"
   },
   "outputs": [],
   "source": [
    "df_new.loc[(df_new['fraudulent'] == 0) & (df_new['min_salary'] < minminreal), ['min_salary']] = np.nan\n",
    "df_new.loc[(df_new['fraudulent'] == 0) & (df_new['min_salary'] > maxminreal), ['min_salary']] = np.nan\n",
    "df_new.loc[(df_new['fraudulent'] == 0) & (df_new['max_salary'] < minmaxreal), ['max_salary']] = np.nan\n",
    "df_new.loc[(df_new['fraudulent'] == 0) & (df_new['max_salary'] > maxmaxreal), ['max_salary']] = np.nan\n",
    "df_new.loc[(df_new['fraudulent'] == 1) & (df_new['min_salary'] < minminfake), ['min_salary']] = np.nan\n",
    "df_new.loc[(df_new['fraudulent'] == 1) & (df_new['min_salary'] > maxminfake), ['min_salary']] = np.nan\n",
    "df_new.loc[(df_new['fraudulent'] == 1) & (df_new['max_salary'] < minmaxfake), ['max_salary']] = np.nan\n",
    "df_new.loc[(df_new['fraudulent'] == 1) & (df_new['max_salary'] > maxmaxfake), ['max_salary']] = np.nan\n",
    "\n",
    "df_new = df_new.dropna(how='any', subset=['min_salary', 'max_salary'], axis=0)"
   ]
  },
  {
   "cell_type": "code",
   "execution_count": 39,
   "metadata": {
    "colab": {
     "base_uri": "https://localhost:8080/",
     "height": 364
    },
    "id": "dCSqDayfUjR8",
    "outputId": "c4380a39-5af5-4cff-f4ef-ed348c5762f9"
   },
   "outputs": [
    {
     "data": {
      "text/html": [
       "\n",
       "  <div id=\"df-8b08ba56-b0ea-4cb0-b6ab-e53e83b0d75e\">\n",
       "    <div class=\"colab-df-container\">\n",
       "      <div>\n",
       "<style scoped>\n",
       "    .dataframe tbody tr th:only-of-type {\n",
       "        vertical-align: middle;\n",
       "    }\n",
       "\n",
       "    .dataframe tbody tr th {\n",
       "        vertical-align: top;\n",
       "    }\n",
       "\n",
       "    .dataframe thead th {\n",
       "        text-align: right;\n",
       "    }\n",
       "</style>\n",
       "<table border=\"1\" class=\"dataframe\">\n",
       "  <thead>\n",
       "    <tr style=\"text-align: right;\">\n",
       "      <th></th>\n",
       "      <th>job_id</th>\n",
       "      <th>department</th>\n",
       "      <th>telecommuting</th>\n",
       "      <th>has_company_logo</th>\n",
       "      <th>has_questions</th>\n",
       "      <th>employment_type</th>\n",
       "      <th>required_experience</th>\n",
       "      <th>required_education</th>\n",
       "      <th>industry</th>\n",
       "      <th>function</th>\n",
       "      <th>fraudulent</th>\n",
       "      <th>min_salary</th>\n",
       "      <th>max_salary</th>\n",
       "    </tr>\n",
       "  </thead>\n",
       "  <tbody>\n",
       "    <tr>\n",
       "      <th>count</th>\n",
       "      <td>720.000000</td>\n",
       "      <td>720.000000</td>\n",
       "      <td>720.000000</td>\n",
       "      <td>720.000000</td>\n",
       "      <td>720.000000</td>\n",
       "      <td>720.000000</td>\n",
       "      <td>720.000000</td>\n",
       "      <td>720.000000</td>\n",
       "      <td>720.000000</td>\n",
       "      <td>720.000000</td>\n",
       "      <td>720.000000</td>\n",
       "      <td>720.000000</td>\n",
       "      <td>720.000000</td>\n",
       "    </tr>\n",
       "    <tr>\n",
       "      <th>mean</th>\n",
       "      <td>8612.451389</td>\n",
       "      <td>681.920833</td>\n",
       "      <td>0.098611</td>\n",
       "      <td>0.976389</td>\n",
       "      <td>0.668056</td>\n",
       "      <td>2.029167</td>\n",
       "      <td>3.809722</td>\n",
       "      <td>4.225000</td>\n",
       "      <td>56.320833</td>\n",
       "      <td>19.205556</td>\n",
       "      <td>0.098611</td>\n",
       "      <td>40383.070833</td>\n",
       "      <td>57402.252778</td>\n",
       "    </tr>\n",
       "    <tr>\n",
       "      <th>std</th>\n",
       "      <td>5043.050498</td>\n",
       "      <td>353.179535</td>\n",
       "      <td>0.298346</td>\n",
       "      <td>0.151940</td>\n",
       "      <td>0.471239</td>\n",
       "      <td>0.472303</td>\n",
       "      <td>2.195878</td>\n",
       "      <td>3.059346</td>\n",
       "      <td>29.814188</td>\n",
       "      <td>9.430042</td>\n",
       "      <td>0.298346</td>\n",
       "      <td>25862.804109</td>\n",
       "      <td>36469.726350</td>\n",
       "    </tr>\n",
       "    <tr>\n",
       "      <th>min</th>\n",
       "      <td>7.000000</td>\n",
       "      <td>2.000000</td>\n",
       "      <td>0.000000</td>\n",
       "      <td>0.000000</td>\n",
       "      <td>0.000000</td>\n",
       "      <td>1.000000</td>\n",
       "      <td>1.000000</td>\n",
       "      <td>1.000000</td>\n",
       "      <td>1.000000</td>\n",
       "      <td>1.000000</td>\n",
       "      <td>0.000000</td>\n",
       "      <td>0.000000</td>\n",
       "      <td>0.000000</td>\n",
       "    </tr>\n",
       "    <tr>\n",
       "      <th>25%</th>\n",
       "      <td>4402.500000</td>\n",
       "      <td>380.000000</td>\n",
       "      <td>0.000000</td>\n",
       "      <td>1.000000</td>\n",
       "      <td>0.000000</td>\n",
       "      <td>2.000000</td>\n",
       "      <td>1.000000</td>\n",
       "      <td>2.000000</td>\n",
       "      <td>27.000000</td>\n",
       "      <td>13.000000</td>\n",
       "      <td>0.000000</td>\n",
       "      <td>22000.000000</td>\n",
       "      <td>30000.000000</td>\n",
       "    </tr>\n",
       "    <tr>\n",
       "      <th>50%</th>\n",
       "      <td>8556.500000</td>\n",
       "      <td>711.000000</td>\n",
       "      <td>0.000000</td>\n",
       "      <td>1.000000</td>\n",
       "      <td>1.000000</td>\n",
       "      <td>2.000000</td>\n",
       "      <td>3.000000</td>\n",
       "      <td>2.000000</td>\n",
       "      <td>59.000000</td>\n",
       "      <td>19.000000</td>\n",
       "      <td>0.000000</td>\n",
       "      <td>35000.000000</td>\n",
       "      <td>50000.000000</td>\n",
       "    </tr>\n",
       "    <tr>\n",
       "      <th>75%</th>\n",
       "      <td>12934.250000</td>\n",
       "      <td>1055.000000</td>\n",
       "      <td>0.000000</td>\n",
       "      <td>1.000000</td>\n",
       "      <td>1.000000</td>\n",
       "      <td>2.000000</td>\n",
       "      <td>6.000000</td>\n",
       "      <td>5.000000</td>\n",
       "      <td>73.000000</td>\n",
       "      <td>27.000000</td>\n",
       "      <td>0.000000</td>\n",
       "      <td>52000.000000</td>\n",
       "      <td>80000.000000</td>\n",
       "    </tr>\n",
       "    <tr>\n",
       "      <th>max</th>\n",
       "      <td>17866.000000</td>\n",
       "      <td>1330.000000</td>\n",
       "      <td>1.000000</td>\n",
       "      <td>1.000000</td>\n",
       "      <td>1.000000</td>\n",
       "      <td>5.000000</td>\n",
       "      <td>7.000000</td>\n",
       "      <td>13.000000</td>\n",
       "      <td>127.000000</td>\n",
       "      <td>37.000000</td>\n",
       "      <td>1.000000</td>\n",
       "      <td>125000.000000</td>\n",
       "      <td>180000.000000</td>\n",
       "    </tr>\n",
       "  </tbody>\n",
       "</table>\n",
       "</div>\n",
       "      <button class=\"colab-df-convert\" onclick=\"convertToInteractive('df-8b08ba56-b0ea-4cb0-b6ab-e53e83b0d75e')\"\n",
       "              title=\"Convert this dataframe to an interactive table.\"\n",
       "              style=\"display:none;\">\n",
       "        \n",
       "  <svg xmlns=\"http://www.w3.org/2000/svg\" height=\"24px\"viewBox=\"0 0 24 24\"\n",
       "       width=\"24px\">\n",
       "    <path d=\"M0 0h24v24H0V0z\" fill=\"none\"/>\n",
       "    <path d=\"M18.56 5.44l.94 2.06.94-2.06 2.06-.94-2.06-.94-.94-2.06-.94 2.06-2.06.94zm-11 1L8.5 8.5l.94-2.06 2.06-.94-2.06-.94L8.5 2.5l-.94 2.06-2.06.94zm10 10l.94 2.06.94-2.06 2.06-.94-2.06-.94-.94-2.06-.94 2.06-2.06.94z\"/><path d=\"M17.41 7.96l-1.37-1.37c-.4-.4-.92-.59-1.43-.59-.52 0-1.04.2-1.43.59L10.3 9.45l-7.72 7.72c-.78.78-.78 2.05 0 2.83L4 21.41c.39.39.9.59 1.41.59.51 0 1.02-.2 1.41-.59l7.78-7.78 2.81-2.81c.8-.78.8-2.07 0-2.86zM5.41 20L4 18.59l7.72-7.72 1.47 1.35L5.41 20z\"/>\n",
       "  </svg>\n",
       "      </button>\n",
       "      \n",
       "  <style>\n",
       "    .colab-df-container {\n",
       "      display:flex;\n",
       "      flex-wrap:wrap;\n",
       "      gap: 12px;\n",
       "    }\n",
       "\n",
       "    .colab-df-convert {\n",
       "      background-color: #E8F0FE;\n",
       "      border: none;\n",
       "      border-radius: 50%;\n",
       "      cursor: pointer;\n",
       "      display: none;\n",
       "      fill: #1967D2;\n",
       "      height: 32px;\n",
       "      padding: 0 0 0 0;\n",
       "      width: 32px;\n",
       "    }\n",
       "\n",
       "    .colab-df-convert:hover {\n",
       "      background-color: #E2EBFA;\n",
       "      box-shadow: 0px 1px 2px rgba(60, 64, 67, 0.3), 0px 1px 3px 1px rgba(60, 64, 67, 0.15);\n",
       "      fill: #174EA6;\n",
       "    }\n",
       "\n",
       "    [theme=dark] .colab-df-convert {\n",
       "      background-color: #3B4455;\n",
       "      fill: #D2E3FC;\n",
       "    }\n",
       "\n",
       "    [theme=dark] .colab-df-convert:hover {\n",
       "      background-color: #434B5C;\n",
       "      box-shadow: 0px 1px 3px 1px rgba(0, 0, 0, 0.15);\n",
       "      filter: drop-shadow(0px 1px 2px rgba(0, 0, 0, 0.3));\n",
       "      fill: #FFFFFF;\n",
       "    }\n",
       "  </style>\n",
       "\n",
       "      <script>\n",
       "        const buttonEl =\n",
       "          document.querySelector('#df-8b08ba56-b0ea-4cb0-b6ab-e53e83b0d75e button.colab-df-convert');\n",
       "        buttonEl.style.display =\n",
       "          google.colab.kernel.accessAllowed ? 'block' : 'none';\n",
       "\n",
       "        async function convertToInteractive(key) {\n",
       "          const element = document.querySelector('#df-8b08ba56-b0ea-4cb0-b6ab-e53e83b0d75e');\n",
       "          const dataTable =\n",
       "            await google.colab.kernel.invokeFunction('convertToInteractive',\n",
       "                                                     [key], {});\n",
       "          if (!dataTable) return;\n",
       "\n",
       "          const docLinkHtml = 'Like what you see? Visit the ' +\n",
       "            '<a target=\"_blank\" href=https://colab.research.google.com/notebooks/data_table.ipynb>data table notebook</a>'\n",
       "            + ' to learn more about interactive tables.';\n",
       "          element.innerHTML = '';\n",
       "          dataTable['output_type'] = 'display_data';\n",
       "          await google.colab.output.renderOutput(dataTable, element);\n",
       "          const docLink = document.createElement('div');\n",
       "          docLink.innerHTML = docLinkHtml;\n",
       "          element.appendChild(docLink);\n",
       "        }\n",
       "      </script>\n",
       "    </div>\n",
       "  </div>\n",
       "  "
      ],
      "text/plain": [
       "             job_id   department  telecommuting  has_company_logo  \\\n",
       "count    720.000000   720.000000     720.000000        720.000000   \n",
       "mean    8612.451389   681.920833       0.098611          0.976389   \n",
       "std     5043.050498   353.179535       0.298346          0.151940   \n",
       "min        7.000000     2.000000       0.000000          0.000000   \n",
       "25%     4402.500000   380.000000       0.000000          1.000000   \n",
       "50%     8556.500000   711.000000       0.000000          1.000000   \n",
       "75%    12934.250000  1055.000000       0.000000          1.000000   \n",
       "max    17866.000000  1330.000000       1.000000          1.000000   \n",
       "\n",
       "       has_questions  employment_type  required_experience  \\\n",
       "count     720.000000       720.000000           720.000000   \n",
       "mean        0.668056         2.029167             3.809722   \n",
       "std         0.471239         0.472303             2.195878   \n",
       "min         0.000000         1.000000             1.000000   \n",
       "25%         0.000000         2.000000             1.000000   \n",
       "50%         1.000000         2.000000             3.000000   \n",
       "75%         1.000000         2.000000             6.000000   \n",
       "max         1.000000         5.000000             7.000000   \n",
       "\n",
       "       required_education    industry    function  fraudulent     min_salary  \\\n",
       "count          720.000000  720.000000  720.000000  720.000000     720.000000   \n",
       "mean             4.225000   56.320833   19.205556    0.098611   40383.070833   \n",
       "std              3.059346   29.814188    9.430042    0.298346   25862.804109   \n",
       "min              1.000000    1.000000    1.000000    0.000000       0.000000   \n",
       "25%              2.000000   27.000000   13.000000    0.000000   22000.000000   \n",
       "50%              2.000000   59.000000   19.000000    0.000000   35000.000000   \n",
       "75%              5.000000   73.000000   27.000000    0.000000   52000.000000   \n",
       "max             13.000000  127.000000   37.000000    1.000000  125000.000000   \n",
       "\n",
       "          max_salary  \n",
       "count     720.000000  \n",
       "mean    57402.252778  \n",
       "std     36469.726350  \n",
       "min         0.000000  \n",
       "25%     30000.000000  \n",
       "50%     50000.000000  \n",
       "75%     80000.000000  \n",
       "max    180000.000000  "
      ]
     },
     "execution_count": 39,
     "metadata": {},
     "output_type": "execute_result"
    }
   ],
   "source": [
    "df_new.describe()"
   ]
  },
  {
   "cell_type": "code",
   "execution_count": 40,
   "metadata": {
    "colab": {
     "base_uri": "https://localhost:8080/",
     "height": 0
    },
    "id": "qKFgvD7aUnCk",
    "outputId": "3ea3b9f1-a6e0-4453-d019-4dbda1ff9a02"
   },
   "outputs": [
    {
     "name": "stdout",
     "output_type": "stream",
     "text": [
      "<class 'pandas.core.frame.DataFrame'>\n",
      "Int64Index: 720 entries, 6 to 17865\n",
      "Data columns (total 20 columns):\n",
      " #   Column               Non-Null Count  Dtype  \n",
      "---  ------               --------------  -----  \n",
      " 0   job_id               720 non-null    int64  \n",
      " 1   title                720 non-null    object \n",
      " 2   location             720 non-null    object \n",
      " 3   department           720 non-null    float64\n",
      " 4   salary_range         720 non-null    object \n",
      " 5   company_profile      720 non-null    object \n",
      " 6   description          720 non-null    object \n",
      " 7   requirements         720 non-null    object \n",
      " 8   benefits             720 non-null    object \n",
      " 9   telecommuting        720 non-null    int64  \n",
      " 10  has_company_logo     720 non-null    int64  \n",
      " 11  has_questions        720 non-null    int64  \n",
      " 12  employment_type      720 non-null    float64\n",
      " 13  required_experience  720 non-null    float64\n",
      " 14  required_education   720 non-null    float64\n",
      " 15  industry             720 non-null    float64\n",
      " 16  function             720 non-null    float64\n",
      " 17  fraudulent           720 non-null    int64  \n",
      " 18  min_salary           720 non-null    float64\n",
      " 19  max_salary           720 non-null    float64\n",
      "dtypes: float64(8), int64(5), object(7)\n",
      "memory usage: 118.1+ KB\n"
     ]
    }
   ],
   "source": [
    "df_new.info()"
   ]
  },
  {
   "cell_type": "code",
   "execution_count": 41,
   "metadata": {
    "colab": {
     "base_uri": "https://localhost:8080/",
     "height": 1000
    },
    "id": "CpUxcx5GUsZk",
    "outputId": "d9dcc984-e6d1-4d43-8cdd-6d5b4d71eec2"
   },
   "outputs": [
    {
     "name": "stderr",
     "output_type": "stream",
     "text": [
      "/usr/local/lib/python3.7/dist-packages/seaborn/_decorators.py:43: FutureWarning: Pass the following variable as a keyword arg: x. From version 0.12, the only valid positional argument will be `data`, and passing other arguments without an explicit keyword will result in an error or misinterpretation.\n",
      "  FutureWarning\n",
      "/usr/local/lib/python3.7/dist-packages/seaborn/distributions.py:2619: FutureWarning: `distplot` is a deprecated function and will be removed in a future version. Please adapt your code to use either `displot` (a figure-level function with similar flexibility) or `histplot` (an axes-level function for histograms).\n",
      "  warnings.warn(msg, FutureWarning)\n",
      "/usr/local/lib/python3.7/dist-packages/seaborn/_decorators.py:43: FutureWarning: Pass the following variable as a keyword arg: x. From version 0.12, the only valid positional argument will be `data`, and passing other arguments without an explicit keyword will result in an error or misinterpretation.\n",
      "  FutureWarning\n",
      "/usr/local/lib/python3.7/dist-packages/seaborn/distributions.py:2619: FutureWarning: `distplot` is a deprecated function and will be removed in a future version. Please adapt your code to use either `displot` (a figure-level function with similar flexibility) or `histplot` (an axes-level function for histograms).\n",
      "  warnings.warn(msg, FutureWarning)\n",
      "/usr/local/lib/python3.7/dist-packages/seaborn/_decorators.py:43: FutureWarning: Pass the following variable as a keyword arg: x. From version 0.12, the only valid positional argument will be `data`, and passing other arguments without an explicit keyword will result in an error or misinterpretation.\n",
      "  FutureWarning\n",
      "/usr/local/lib/python3.7/dist-packages/seaborn/distributions.py:2619: FutureWarning: `distplot` is a deprecated function and will be removed in a future version. Please adapt your code to use either `displot` (a figure-level function with similar flexibility) or `histplot` (an axes-level function for histograms).\n",
      "  warnings.warn(msg, FutureWarning)\n",
      "/usr/local/lib/python3.7/dist-packages/seaborn/_decorators.py:43: FutureWarning: Pass the following variable as a keyword arg: x. From version 0.12, the only valid positional argument will be `data`, and passing other arguments without an explicit keyword will result in an error or misinterpretation.\n",
      "  FutureWarning\n",
      "/usr/local/lib/python3.7/dist-packages/seaborn/distributions.py:2619: FutureWarning: `distplot` is a deprecated function and will be removed in a future version. Please adapt your code to use either `displot` (a figure-level function with similar flexibility) or `histplot` (an axes-level function for histograms).\n",
      "  warnings.warn(msg, FutureWarning)\n"
     ]
    },
    {
     "data": {
      "text/plain": [
       "[Text(0, 0.5, 'Count'),\n",
       " Text(0.5, 0, 'Salary'),\n",
       " Text(0.5, 1.0, 'Maximum salary in fake job postings')]"
      ]
     },
     "execution_count": 41,
     "metadata": {},
     "output_type": "execute_result"
    },
    {
     "data": {
      "image/png": "[encoded data removed]",
      "text/plain": [
       "<Figure size 1440x2304 with 8 Axes>"
      ]
     },
     "metadata": {},
     "output_type": "display_data"
    }
   ],
   "source": [
    "# Plotting the Data after removing outliers\n",
    "\n",
    "fig, ax = plt.subplots(4, 2, figsize=(20,32))\n",
    "\n",
    "plt.subplot(4, 2, 1)\n",
    "sns.set(style='whitegrid')\n",
    "sns.boxplot(df_new.loc[df_new['fraudulent'] == 0, 'min_salary']).set(xlabel='Salary', title='Minimum salary in real job postings')\n",
    "\n",
    "plt.subplot(4, 2, 2)\n",
    "sns.set(style='whitegrid')\n",
    "sns.distplot(df_new.loc[df_new['fraudulent'] == 0, 'min_salary'], norm_hist=False, kde=False, bins=28, hist_kws={\"alpha\": 1}).\\\n",
    "    set(xlabel='Salary', ylabel='Count', title='Minimum salary in real job postings')\n",
    "\n",
    "plt.subplot(4, 2, 3)\n",
    "sns.set(style='whitegrid')\n",
    "sns.boxplot(df_new.loc[df_new['fraudulent'] == 0, 'max_salary']).set(xlabel='Salary', title='Maximum salary in real job postings')\n",
    "\n",
    "plt.subplot(4, 2, 4)\n",
    "sns.set(style='whitegrid')\n",
    "sns.distplot(df_new.loc[df_new['fraudulent'] == 0, 'max_salary'], norm_hist=False, kde=False, bins=28, hist_kws={\"alpha\": 1}).\\\n",
    "    set(xlabel='Salary', ylabel='Count', title='Maximum salary in real job postings')\n",
    "\n",
    "plt.subplot(4, 2, 5)\n",
    "sns.set(style='whitegrid')\n",
    "sns.boxplot(df_new.loc[df_new['fraudulent'] == 1, 'min_salary']).set(xlabel='Salary', title='Minimum salary in fake job postings')\n",
    "\n",
    "plt.subplot(4, 2, 6)\n",
    "sns.set(style='whitegrid')\n",
    "sns.distplot(df_new.loc[df_new['fraudulent'] == 1, 'min_salary'], norm_hist=False, kde=False, bins=28, hist_kws={\"alpha\": 1}).\\\n",
    "    set(xlabel='Salary', ylabel='Count', title='Minimum salary in fake job postings')\n",
    "\n",
    "plt.subplot(4, 2, 7)\n",
    "sns.set(style='whitegrid')\n",
    "sns.boxplot(df_new.loc[df_new['fraudulent'] == 1, 'max_salary']).set(xlabel='Salary', title='Maximum salary in fake job postings')\n",
    "\n",
    "plt.subplot(4, 2, 8)\n",
    "sns.set(style='whitegrid')\n",
    "sns.distplot(df_new.loc[df_new['fraudulent'] == 1, 'max_salary'], norm_hist=False, kde=False, bins=28, hist_kws={\"alpha\": 1}).\\\n",
    "    set(xlabel='Salary', ylabel='Count', title='Maximum salary in fake job postings')"
   ]
  },
  {
   "cell_type": "code",
   "execution_count": 42,
   "metadata": {
    "colab": {
     "base_uri": "https://localhost:8080/",
     "height": 0
    },
    "id": "u4Njc3ioVEaZ",
    "outputId": "a6c49391-9ccc-46a9-870c-c68608e01abb"
   },
   "outputs": [
    {
     "name": "stdout",
     "output_type": "stream",
     "text": [
      "720 records\n",
      "\n",
      "2 classes:\n",
      "0 (real)\n",
      "1 (fake)\n",
      "\n",
      "Class rate:\n",
      "0: 90%\n",
      "1: 10%\n",
      "\n"
     ]
    }
   ],
   "source": [
    "# Checking the Class Distribution after dropping the records\n",
    "\n",
    "total_records = df_new.shape[0]\n",
    "print(f'{total_records} records\\n')\n",
    "\n",
    "classes = df_new['fraudulent'].value_counts().keys().to_list()\n",
    "print(f'{len(classes)} classes:\\n{classes[0]} (real)\\n{classes[1]} (fake)\\n')\n",
    "\n",
    "total_records = df_new.shape[0]\n",
    "real = df_new.loc[df_new['fraudulent'] == 0].count()[0]\n",
    "print(f'Class rate:\\n{classes[0]}: {round(real/total_records*100)}%\\n{classes[1]}: {round((1-real/total_records)*100)}%\\n')\n"
   ]
  },
  {
   "cell_type": "markdown",
   "metadata": {
    "id": "R3xPOp91VPiw"
   },
   "source": [
    "The class imbalance situtation is improved from 95% - 5% to 90% - 10%. We are now left with less than 10% of the number of records in the original dataset. "
   ]
  },
  {
   "cell_type": "code",
   "execution_count": 43,
   "metadata": {
    "id": "aK5K-VgfVaMQ"
   },
   "outputs": [],
   "source": [
    "transformer = FeatureUnion(transformer_list=[\n",
    "                ('profile_tfidf', Pipeline([\n",
    "                    ('extract_text', FunctionTransformer(lambda x: x['company_profile'], validate=False)),\n",
    "                    ('tfidf', TfidfVectorizer(token_pattern=r'\\w{2,}', ngram_range=(1, 3), max_df=0.34, min_df=0.001)),\n",
    "                    ])),\n",
    "                ('profile_count', Pipeline([\n",
    "                    ('extract_text', FunctionTransformer(lambda x: x['company_profile'], validate=False)),\n",
    "                    ('count', CountVectorizer(token_pattern=r'\\w{2,}', ngram_range=(1, 3), max_df=0.34, min_df=0.001, binary=True)),\n",
    "                    ])),\n",
    "                ('description_tfidf', Pipeline([\n",
    "                    ('extract_text', FunctionTransformer(lambda x: x['description'], validate=False)),\n",
    "                    ('tfidf', TfidfVectorizer(token_pattern=r'\\w{2,}', ngram_range=(1, 3), max_df=0.34, min_df=0.001)),\n",
    "                    ])),\n",
    "                ('description_count', Pipeline([\n",
    "                    ('extract_text', FunctionTransformer(lambda x: x['description'], validate=False)),\n",
    "                    ('count', CountVectorizer(token_pattern=r'\\w{2,}', ngram_range=(1, 3), max_df=0.34, min_df=0.001, binary=True)),\n",
    "                    ])),\n",
    "                ('requirements_tfidf', Pipeline([\n",
    "                    ('extract_text', FunctionTransformer(lambda x: x['requirements'], validate=False)),\n",
    "                    ('tfidf', TfidfVectorizer(token_pattern=r'\\w{2,}', ngram_range=(1, 3), max_df=0.34, min_df=0.001)),\n",
    "                    ])),\n",
    "                ('requirements_count', Pipeline([\n",
    "                    ('extract_text', FunctionTransformer(lambda x: x['requirements'], validate=False)),\n",
    "                    ('count', CountVectorizer(token_pattern=r'\\w{2,}', ngram_range=(1, 3), max_df=0.34, min_df=0.001, binary=True)),\n",
    "                    ])),\n",
    "                ('benefits_tfidf', Pipeline([\n",
    "                    ('extract_text', FunctionTransformer(lambda x: x['benefits'], validate=False)),\n",
    "                    ('tfidf', TfidfVectorizer(token_pattern=r'\\w{2,}', ngram_range=(1, 3), max_df=0.34, min_df=0.001)),\n",
    "                    ])),\n",
    "                ('benefits_count', Pipeline([\n",
    "                    ('extract_text', FunctionTransformer(lambda x: x['benefits'], validate=False)),\n",
    "                    ('count', CountVectorizer(token_pattern=r'\\w{2,}', ngram_range=(1, 3), max_df=0.34, min_df=0.001, binary=True)),\n",
    "                    ])),\n",
    "                ('telecommuting', Pipeline([\n",
    "                    ('extract_number', FunctionTransformer(lambda x: x[['telecommuting']], validate=False)),\n",
    "                    ])),\n",
    "                ('department', Pipeline([\n",
    "                    ('extract_number', FunctionTransformer(lambda x: x[['department']], validate=False)),\n",
    "                    ])),\n",
    "                ('has_company_logo', Pipeline([\n",
    "                    ('extract_number', FunctionTransformer(lambda x: x[['has_company_logo']], validate=False)),\n",
    "                    ])),\n",
    "                ('has_questions', Pipeline([\n",
    "                    ('extract_number', FunctionTransformer(lambda x: x[['has_questions']], validate=False)),\n",
    "                    ])),\n",
    "                ('employment_type', Pipeline([\n",
    "                    ('extract_number', FunctionTransformer(lambda x: x[['employment_type']], validate=False)),\n",
    "                    ])),\n",
    "                ('required_experience', Pipeline([\n",
    "                    ('extract_number', FunctionTransformer(lambda x: x[['required_experience']], validate=False)),\n",
    "                    ])),\n",
    "                ('required_education', Pipeline([\n",
    "                    ('extract_number', FunctionTransformer(lambda x: x[['required_education']], validate=False)),\n",
    "                    ])),\n",
    "                ('industry', Pipeline([\n",
    "                    ('extract_number', FunctionTransformer(lambda x: x[['industry']], validate=False)),\n",
    "                    ])),\n",
    "                ('function', Pipeline([\n",
    "                    ('extract_number', FunctionTransformer(lambda x: x[['function']], validate=False)),\n",
    "                    ])),\n",
    "                ('min_salary', Pipeline([\n",
    "                    ('extract_numeric', FunctionTransformer(lambda x: x[['min_salary']], validate=False)),\n",
    "                    ])),\n",
    "                ('max_salary', Pipeline([\n",
    "                    ('extract_numeric', FunctionTransformer(lambda x: x[['max_salary']], validate=False)),\n",
    "                    ])),\n",
    "            ])\n"
   ]
  },
  {
   "cell_type": "code",
   "execution_count": 44,
   "metadata": {
    "id": "8LvSRFDgVoYD"
   },
   "outputs": [],
   "source": [
    "# Train features and labels\n",
    "\n",
    "train, valid = train_test_split(df_new, test_size=0.15, random_state=13)\n",
    "\n",
    "X_train = transformer.fit_transform(train.drop(['job_id', 'title', 'location', 'fraudulent'], axis=1)).toarray()\n",
    "y_train = train['fraudulent'].to_numpy()\n",
    "X_valid = transformer.transform(valid.drop(['job_id', 'title', 'location', 'fraudulent'], axis=1)).toarray()\n",
    "y_valid = valid['fraudulent'].to_numpy()\n"
   ]
  },
  {
   "cell_type": "markdown",
   "metadata": {
    "id": "WUkpAfUntoyc"
   },
   "source": [
    "Train, validate, and test the following models:\n",
    "\n",
    "*   LogisticRegression\n",
    "*   LinearSVC\n",
    "*   RandomForestClassifier\n",
    "*   MultilayerPerceptronClassifier\n",
    "\n",
    "\n",
    "\n"
   ]
  },
  {
   "cell_type": "code",
   "execution_count": 45,
   "metadata": {
    "id": "3jWLT0nOWLah"
   },
   "outputs": [],
   "source": [
    "# Train the selected classifier on the training data\n",
    "# Perform prediction on the validation data \n",
    "# Return the scores for all classes\n",
    "\n",
    "def evaluate_classifier(classifier, X_train, y_train, X_valid, y_valid):\n",
    "    # Fit the training data on the classifier\n",
    "    classifier.fit(X_train, y_train)\n",
    "    \n",
    "    # Predict the labels on validation data\n",
    "    y_pred = classifier.predict(X_valid).round()\n",
    "    \n",
    "    # Gather scores\n",
    "    scores = classification_report(y_valid, y_pred, zero_division=0)\n",
    "    \n",
    "    return scores"
   ]
  },
  {
   "cell_type": "markdown",
   "metadata": {
    "id": "dZlMCV7-xok6"
   },
   "source": [
    "### **Logistic Regression**"
   ]
  },
  {
   "cell_type": "code",
   "execution_count": 46,
   "metadata": {
    "colab": {
     "base_uri": "https://localhost:8080/",
     "height": 0
    },
    "id": "VdsWV1XevhKE",
    "outputId": "260fd1ce-a234-4e34-a81c-438fa7b405c3"
   },
   "outputs": [
    {
     "name": "stdout",
     "output_type": "stream",
     "text": [
      "Logistic Regression scores:\n",
      "              precision    recall  f1-score   support\n",
      "\n",
      "           0       0.94      0.94      0.94        96\n",
      "           1       0.50      0.50      0.50        12\n",
      "\n",
      "    accuracy                           0.89       108\n",
      "   macro avg       0.72      0.72      0.72       108\n",
      "weighted avg       0.89      0.89      0.89       108\n",
      "\n"
     ]
    },
    {
     "name": "stderr",
     "output_type": "stream",
     "text": [
      "/usr/local/lib/python3.7/dist-packages/sklearn/linear_model/_logistic.py:818: ConvergenceWarning: lbfgs failed to converge (status=1):\n",
      "STOP: TOTAL NO. of ITERATIONS REACHED LIMIT.\n",
      "\n",
      "Increase the number of iterations (max_iter) or scale the data as shown in:\n",
      "    https://scikit-learn.org/stable/modules/preprocessing.html\n",
      "Please also refer to the documentation for alternative solver options:\n",
      "    https://scikit-learn.org/stable/modules/linear_model.html#logistic-regression\n",
      "  extra_warning_msg=_LOGISTIC_SOLVER_CONVERGENCE_MSG,\n"
     ]
    }
   ],
   "source": [
    "# using logistic regression \n",
    "\n",
    "from sklearn.linear_model import LogisticRegression\n",
    "\n",
    "clf = LogisticRegression()\n",
    "scores = evaluate_classifier(clf, X_train, y_train, X_valid, y_valid)\n",
    "print('Logistic Regression scores:')\n",
    "print(scores)"
   ]
  },
  {
   "cell_type": "markdown",
   "metadata": {
    "id": "1uPpxZNIxu-k"
   },
   "source": [
    "### **Linear SVC**"
   ]
  },
  {
   "cell_type": "code",
   "execution_count": 47,
   "metadata": {
    "colab": {
     "base_uri": "https://localhost:8080/",
     "height": 0
    },
    "id": "sZOHcaLSyB6Q",
    "outputId": "4ad6905f-3754-459d-8f20-d1695be28d3b"
   },
   "outputs": [
    {
     "name": "stdout",
     "output_type": "stream",
     "text": [
      "Linear SVC scores:\n",
      "              precision    recall  f1-score   support\n",
      "\n",
      "           0       0.89      0.98      0.93        96\n",
      "           1       0.00      0.00      0.00        12\n",
      "\n",
      "    accuracy                           0.87       108\n",
      "   macro avg       0.44      0.49      0.47       108\n",
      "weighted avg       0.79      0.87      0.83       108\n",
      "\n"
     ]
    },
    {
     "name": "stderr",
     "output_type": "stream",
     "text": [
      "/usr/local/lib/python3.7/dist-packages/sklearn/svm/_base.py:1208: ConvergenceWarning: Liblinear failed to converge, increase the number of iterations.\n",
      "  ConvergenceWarning,\n"
     ]
    }
   ],
   "source": [
    "# using linear svc\n",
    "\n",
    "from sklearn.svm import LinearSVC\n",
    "\n",
    "clf = LinearSVC()\n",
    "scores = evaluate_classifier(clf, X_train, y_train, X_valid, y_valid)\n",
    "print('Linear SVC scores:')\n",
    "print(scores)"
   ]
  },
  {
   "cell_type": "markdown",
   "metadata": {
    "id": "lwzQEuPuxz7O"
   },
   "source": [
    "### **Random Forest Classifier**"
   ]
  },
  {
   "cell_type": "code",
   "execution_count": 48,
   "metadata": {
    "colab": {
     "base_uri": "https://localhost:8080/",
     "height": 0
    },
    "id": "TVYYbk_EyCnU",
    "outputId": "d97c9145-7d33-4d3c-a8d5-991798bb7212"
   },
   "outputs": [
    {
     "name": "stdout",
     "output_type": "stream",
     "text": [
      "Random Forest scores:\n",
      "              precision    recall  f1-score   support\n",
      "\n",
      "           0       0.98      1.00      0.99        96\n",
      "           1       1.00      0.83      0.91        12\n",
      "\n",
      "    accuracy                           0.98       108\n",
      "   macro avg       0.99      0.92      0.95       108\n",
      "weighted avg       0.98      0.98      0.98       108\n",
      "\n"
     ]
    }
   ],
   "source": [
    "# using random forest classifier\n",
    "\n",
    "from sklearn.ensemble import RandomForestClassifier\n",
    "\n",
    "clf = RandomForestClassifier()\n",
    "scores = evaluate_classifier(clf, X_train, y_train, X_valid, y_valid)\n",
    "print('Random Forest scores:')\n",
    "print(scores)"
   ]
  },
  {
   "cell_type": "markdown",
   "metadata": {
    "id": "7BLWeoBLx5-u"
   },
   "source": [
    "### **Multi-layer Perceptron Classifier**"
   ]
  },
  {
   "cell_type": "code",
   "execution_count": 49,
   "metadata": {
    "colab": {
     "base_uri": "https://localhost:8080/",
     "height": 0
    },
    "id": "1aYGlARWyDM0",
    "outputId": "ffc91712-20d6-4b5a-eaca-c452ce3d67ef"
   },
   "outputs": [
    {
     "name": "stdout",
     "output_type": "stream",
     "text": [
      "Perceptron scores:\n",
      "              precision    recall  f1-score   support\n",
      "\n",
      "           0       0.89      1.00      0.94        96\n",
      "           1       0.00      0.00      0.00        12\n",
      "\n",
      "    accuracy                           0.89       108\n",
      "   macro avg       0.44      0.50      0.47       108\n",
      "weighted avg       0.79      0.89      0.84       108\n",
      "\n",
      "\n",
      "\n"
     ]
    }
   ],
   "source": [
    "# using perceptron classifier\n",
    "\n",
    "clf = Perceptron()\n",
    "scores = evaluate_classifier(clf, X_train, y_train, X_valid, y_valid)\n",
    "print('Perceptron scores:')\n",
    "print(scores)\n",
    "print('\\n')"
   ]
  },
  {
   "cell_type": "markdown",
   "metadata": {
    "id": "rQEb2HhP4dzW"
   },
   "source": [
    "**Use the training set to crossvalidate your model (10 folds). Use the test data to test. Output accuracy and F1. Report the best parameter choices for each model.**"
   ]
  },
  {
   "cell_type": "code",
   "execution_count": 50,
   "metadata": {
    "id": "iUYfKpBCXu8I"
   },
   "outputs": [],
   "source": [
    "y_train = to_categorical(y_train.reshape([-1, 1]))\n",
    "y_valid = to_categorical(y_valid.reshape([-1, 1]))"
   ]
  },
  {
   "cell_type": "code",
   "execution_count": 51,
   "metadata": {
    "id": "AeBZm4xzXu-o"
   },
   "outputs": [],
   "source": [
    "dropout_rate=0.3\n",
    "learning_rate=0.1\n",
    "patience=1\n",
    "batch_size=32\n",
    "epochs=20\n",
    "units=[256, 128, 2]"
   ]
  },
  {
   "cell_type": "code",
   "execution_count": 53,
   "metadata": {
    "id": "YRf3RanXX7g8"
   },
   "outputs": [],
   "source": [
    "def build_model(X, y, activation=relu, units=[32], dropout_rate=0.1, learning_rate=0.01):\n",
    "    # Model creation\n",
    "    model = Sequential()\n",
    "    \n",
    "    # Input layer\n",
    "    model.add(Input(X.shape[1:]))\n",
    "    \n",
    "    # Dense (intermediate) layers\n",
    "    for i in range(len(units)):\n",
    "        model.add(Dense(units[i], activation=activation))\n",
    "    \n",
    "    # Output layer\n",
    "    model.add(Dense(y.shape[1], activation=softmax))\n",
    "\n",
    "    # Model compilation and description\n",
    "    model.compile(optimizer=SGD(learning_rate=learning_rate), \n",
    "                  loss='categorical_crossentropy', \n",
    "                  metrics=['accuracy'])\n",
    "    model.summary()\n",
    "    \n",
    "    return model"
   ]
  },
  {
   "cell_type": "code",
   "execution_count": 54,
   "metadata": {
    "colab": {
     "base_uri": "https://localhost:8080/",
     "height": 0
    },
    "id": "VXluQ0PQX0kd",
    "outputId": "965e8e07-4156-4ade-afb8-819ccfce31d4"
   },
   "outputs": [
    {
     "name": "stdout",
     "output_type": "stream",
     "text": [
      "Model: \"sequential_1\"\n",
      "_________________________________________________________________\n",
      " Layer (type)                Output Shape              Param #   \n",
      "=================================================================\n",
      " dense_4 (Dense)             (None, 256)               95432704  \n",
      "                                                                 \n",
      " dense_5 (Dense)             (None, 128)               32896     \n",
      "                                                                 \n",
      " dense_6 (Dense)             (None, 2)                 258       \n",
      "                                                                 \n",
      " dense_7 (Dense)             (None, 2)                 6         \n",
      "                                                                 \n",
      "=================================================================\n",
      "Total params: 95,465,864\n",
      "Trainable params: 95,465,864\n",
      "Non-trainable params: 0\n",
      "_________________________________________________________________\n"
     ]
    }
   ],
   "source": [
    "model = build_model(X_train, y_train, relu, units, dropout_rate, learning_rate)"
   ]
  },
  {
   "cell_type": "code",
   "execution_count": 55,
   "metadata": {
    "colab": {
     "base_uri": "https://localhost:8080/",
     "height": 0
    },
    "id": "hxZUta4hXvBg",
    "outputId": "8a856744-7ebc-406f-b9de-a7637f9c4d98"
   },
   "outputs": [
    {
     "name": "stdout",
     "output_type": "stream",
     "text": [
      "Epoch 1/20\n",
      "20/20 [==============================] - 9s 405ms/step - loss: 0.5296 - accuracy: 0.9003 - val_loss: 0.4166 - val_accuracy: 0.8889\n",
      "Epoch 2/20\n",
      "20/20 [==============================] - 8s 401ms/step - loss: 0.3691 - accuracy: 0.9036 - val_loss: 0.3655 - val_accuracy: 0.8889\n",
      "Epoch 3/20\n",
      "20/20 [==============================] - 8s 396ms/step - loss: 0.3346 - accuracy: 0.9036 - val_loss: 0.3528 - val_accuracy: 0.8889\n",
      "Epoch 4/20\n",
      "20/20 [==============================] - 10s 517ms/step - loss: 0.3237 - accuracy: 0.9036 - val_loss: 0.3495 - val_accuracy: 0.8889\n",
      "Epoch 5/20\n",
      "20/20 [==============================] - 8s 395ms/step - loss: 0.3199 - accuracy: 0.9036 - val_loss: 0.3490 - val_accuracy: 0.8889\n",
      "Epoch 6/20\n",
      "20/20 [==============================] - 8s 403ms/step - loss: 0.3190 - accuracy: 0.9036 - val_loss: 0.3489 - val_accuracy: 0.8889\n",
      "Epoch 7/20\n",
      "20/20 [==============================] - 8s 391ms/step - loss: 0.3179 - accuracy: 0.9036 - val_loss: 0.3492 - val_accuracy: 0.8889\n"
     ]
    },
    {
     "data": {
      "text/plain": [
       "<keras.callbacks.History at 0x7f74084f5690>"
      ]
     },
     "execution_count": 55,
     "metadata": {},
     "output_type": "execute_result"
    }
   ],
   "source": [
    "# Training the data\n",
    "\n",
    "early_stopping = EarlyStopping(monitor='val_loss', mode='min', patience=patience, restore_best_weights=True)\n",
    "\n",
    "model.fit(x=X_train, y=y_train, \n",
    "          validation_data=(X_valid, y_valid), \n",
    "          batch_size=batch_size, epochs=epochs, \n",
    "          callbacks=[early_stopping])"
   ]
  },
  {
   "cell_type": "code",
   "execution_count": 56,
   "metadata": {
    "colab": {
     "base_uri": "https://localhost:8080/",
     "height": 503
    },
    "id": "SugkCyohXvEV",
    "outputId": "312d7d4c-774b-410a-baa1-bf29c820d287"
   },
   "outputs": [
    {
     "data": {
      "text/plain": [
       "<matplotlib.axes._subplots.AxesSubplot at 0x7f74048644d0>"
      ]
     },
     "execution_count": 56,
     "metadata": {},
     "output_type": "execute_result"
    },
    {
     "data": {
      "image/png": "[encoded data removed]",
      "text/plain": [
       "<Figure size 720x576 with 1 Axes>"
      ]
     },
     "metadata": {},
     "output_type": "display_data"
    }
   ],
   "source": [
    "losses = pd.DataFrame(model.history.history)\n",
    "losses.plot(figsize=(10,8))"
   ]
  },
  {
   "cell_type": "code",
   "execution_count": 57,
   "metadata": {
    "colab": {
     "base_uri": "https://localhost:8080/",
     "height": 0
    },
    "id": "oRzoUzs7b2dE",
    "outputId": "ff0ce64b-0285-49fe-a3af-729a1c33f6f8"
   },
   "outputs": [
    {
     "name": "stdout",
     "output_type": "stream",
     "text": [
      "4/4 [==============================] - 2s 344ms/step - loss: 0.3489 - accuracy: 0.8889\n"
     ]
    },
    {
     "data": {
      "text/plain": [
       "[0.3488771915435791, 0.8888888955116272]"
      ]
     },
     "execution_count": 57,
     "metadata": {},
     "output_type": "execute_result"
    }
   ],
   "source": [
    "model.evaluate(X_valid, y_valid)"
   ]
  },
  {
   "cell_type": "code",
   "execution_count": 58,
   "metadata": {
    "colab": {
     "base_uri": "https://localhost:8080/",
     "height": 0
    },
    "id": "AIDKBOnNXvGr",
    "outputId": "8e8d74a9-04da-4fae-8672-9e131774a10b"
   },
   "outputs": [
    {
     "name": "stdout",
     "output_type": "stream",
     "text": [
      "4/4 [==============================] - 2s 203ms/step\n",
      "              precision    recall  f1-score   support\n",
      "\n",
      "           0       0.89      1.00      0.94        96\n",
      "           1       0.00      0.00      0.00        12\n",
      "\n",
      "   micro avg       0.89      0.89      0.89       108\n",
      "   macro avg       0.44      0.50      0.47       108\n",
      "weighted avg       0.79      0.89      0.84       108\n",
      " samples avg       0.89      0.89      0.89       108\n",
      "\n"
     ]
    }
   ],
   "source": [
    "# Predict the labels on validation dataset\n",
    "y_pred = model.predict(X_valid).round()\n",
    "\n",
    "# Gather scores\n",
    "scores = classification_report(y_valid, y_pred, zero_division=0)\n",
    "print(scores)"
   ]
  },
  {
   "cell_type": "markdown",
   "metadata": {
    "id": "9MwgLx6qhMwx"
   },
   "source": [
    "**Computing** **Accuracy**"
   ]
  },
  {
   "cell_type": "code",
   "execution_count": 59,
   "metadata": {
    "id": "fUuVtkLYXvJV"
   },
   "outputs": [],
   "source": [
    "def compute_accuracy(y_true, y_pred):\n",
    "    correct_predictions = 0\n",
    "    # iterate over each label and check\n",
    "    for true, predicted in zip(y_true, y_pred):\n",
    "        if true == predicted:\n",
    "            correct_predictions += 1\n",
    "    # compute the accuracy\n",
    "    accuracy = correct_predictions/len(y_true)\n",
    "    return accuracy"
   ]
  },
  {
   "cell_type": "code",
   "execution_count": 61,
   "metadata": {
    "colab": {
     "base_uri": "https://localhost:8080/",
     "height": 0
    },
    "id": "31GqcY89XvNv",
    "outputId": "859b480c-d451-4508-f3d4-05cd969ab591"
   },
   "outputs": [
    {
     "data": {
      "text/plain": [
       "0.8888888888888888"
      ]
     },
     "execution_count": 61,
     "metadata": {},
     "output_type": "execute_result"
    }
   ],
   "source": [
    "from sklearn.metrics import accuracy_score\n",
    "\n",
    "accuracy_score(y_valid, y_pred)"
   ]
  }
 ],
 "metadata": {
  "colab": {
   "collapsed_sections": [],
   "provenance": []
  },
  "kernelspec": {
   "display_name": "Python 3 (ipykernel)",
   "language": "python",
   "name": "python3"
  },
  "language_info": {
   "codemirror_mode": {
    "name": "ipython",
    "version": 3
   },
   "file_extension": ".py",
   "mimetype": "text/x-python",
   "name": "python",
   "nbconvert_exporter": "python",
   "pygments_lexer": "ipython3",
   "version": "3.8.8"
  }
 },
 "nbformat": 4,
 "nbformat_minor": 1
}
